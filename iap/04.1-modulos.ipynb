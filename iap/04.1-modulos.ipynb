{
 "cells": [
  {
   "cell_type": "markdown",
   "metadata": {},
   "source": [
    "# Modulos\n",
    "\n",
    "* Python permite agrupar variables, funciones, objetos, etc. en un fichero llamado módulo.\n",
    "* Un módulo es un fichero de texto que contiene codigo en Python, con la extensión `.py`.\n",
    "* Dentro de un módulo, el nombre del mismo se almacena en la variable `__name__.py`.\n"
   ]
  },
  {
   "cell_type": "markdown",
   "metadata": {},
   "source": [
    "## Importando módulos\n",
    "\n",
    "* Un módulo en Python se importa con la sentencia `import module`\n",
    "* De este modo, se introduce en nombre `module` en el _namespace_ actual, de forma que se puede acceder a cualquier elemento del modulo mediante `module.name`.\n",
    "* Las sentencias que existan dentro del módulo se van a ejecutar, de forma que se pueden inicializar valores, etc.\n",
    "    * De todos modos, un módulo solo se inicializa una vez\n",
    "* Cada módulo tiene su propia tabla de simbolos, por lo que se pueden utilizar variables globales sin problemas.\n",
    "* Un módulo puede importar otros módulos, pero no puede haber bucles."
   ]
  },
  {
   "cell_type": "code",
   "execution_count": null,
   "metadata": {},
   "outputs": [],
   "source": [
    "# Ejemplo, modulo \"math\"\n",
    "\n",
    "import math\n",
    "print(math.sqrt(144))\n",
    "\n",
    "print(math.factorial(10))"
   ]
  },
  {
   "cell_type": "markdown",
   "metadata": {},
   "source": [
    "* También se puede utilizar `from module import name` de forma que `name` se introduce directamente en el namespace actual."
   ]
  },
  {
   "cell_type": "code",
   "execution_count": null,
   "metadata": {},
   "outputs": [],
   "source": [
    "from math import sqrt\n",
    "\n",
    "sqrt(36)"
   ]
  },
  {
   "cell_type": "markdown",
   "metadata": {},
   "source": [
    "* Se puede utilizar el keyword `as` para renombrar lo que se está importando, en caso de que haya alguna colision"
   ]
  },
  {
   "cell_type": "code",
   "execution_count": null,
   "metadata": {},
   "outputs": [],
   "source": [
    "import math as mathematics\n",
    "mathematics.sqrt(36)"
   ]
  },
  {
   "cell_type": "code",
   "execution_count": null,
   "metadata": {},
   "outputs": [],
   "source": [
    "from math import sqrt as raiz\n",
    "raiz(36)"
   ]
  },
  {
   "cell_type": "markdown",
   "metadata": {},
   "source": [
    "## Ejemplo: módulo fibo.py\n",
    "\n",
    "* En este mismo directorio deberías tener un fichero `fibo.py`"
   ]
  },
  {
   "cell_type": "code",
   "execution_count": null,
   "metadata": {},
   "outputs": [],
   "source": [
    "import fibo"
   ]
  },
  {
   "cell_type": "code",
   "execution_count": null,
   "metadata": {},
   "outputs": [],
   "source": [
    "help(fibo)"
   ]
  },
  {
   "cell_type": "markdown",
   "metadata": {},
   "source": [
    "## Ejecutando módulos\n",
    "\n",
    "* Un módulo también se puede ejecutar desde la consola, de la siguiente manera\n",
    "```bash\n",
    "python module.py\n",
    "```\n",
    "* ¿Cómo diferenciar lo que queremos que se ejecute cuando el módulo se importe y cuando el módulo se ejecute?\n",
    "    * El nombre del módulo se almacena en la variable `__name__`.\n",
    "    * Cuando el módulo se ejecuta en consola, esta variable toma el valor `__main__`"
   ]
  },
  {
   "cell_type": "markdown",
   "metadata": {},
   "source": [
    "---\n",
    "\n",
    "# Paquetes\n",
    "\n",
    "* Un paquete en Python (\"import package\") es una forma de agrupar módulos y estrucutrar un namespace de forma que se puede acceder a los mismos de forma jerárquica, utilizando una notación con puntos.\n",
    "* El nombre del módulo `paqueteA.moduloB` desinga al módulo `moduloB` dentro del paquete llamado `paqueteA`.\n",
    "* Un paquete:\n",
    "    * Se obtiene guardando diferentes módulos en un directorio.\n",
    "    * El directorio será el nombre del paquete.\n",
    "    * Utilizando un fichero `__init__.py` (que será el módulo que se importe si se importa el nombre del paquete.\n",
    "* Ejemplo, supongamos esta jerarquía:\n",
    "```\n",
    "lyrics/__init__.py\n",
    "       process.py\n",
    "       frequencies.py\n",
    "       songs/__init__.py\n",
    "       songs/example.py\n",
    "```\n",
    "\n",
    "* Desde nuestro código en Python podríamos hacer por ejemplo\n",
    "\n",
    "```python\n",
    "import lyrics.frequencies\n",
    "import lyrics.process\n",
    "from lyrics import songs\n",
    "\n",
    "words = lyrics.process.split_into_words\n",
    "freqs = lyrics.frequencies.words_to_frequencies(words)\n",
    "print(lyrics.frequencies.get_more_often_user_words(freqs))\n",
    "```\n",
    "\n"
   ]
  }
 ],
 "metadata": {
  "kernelspec": {
   "display_name": "Python 3",
   "language": "python",
   "name": "python3"
  },
  "language_info": {
   "codemirror_mode": {
    "name": "ipython",
    "version": 3
   },
   "file_extension": ".py",
   "mimetype": "text/x-python",
   "name": "python",
   "nbconvert_exporter": "python",
   "pygments_lexer": "ipython3",
   "version": "3.6.6"
  }
 },
 "nbformat": 4,
 "nbformat_minor": 2
}
