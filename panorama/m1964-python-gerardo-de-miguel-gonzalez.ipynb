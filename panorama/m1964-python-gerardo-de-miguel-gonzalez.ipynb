{
  "cells": [
    {
      "metadata": {
        "collapsed": true
      },
      "cell_type": "markdown",
      "source": "# Gerardo de Miguel González\n\n## M1964 Assignment: Building a weather generator\n\n### Python implementation"
    },
    {
      "metadata": {},
      "cell_type": "markdown",
      "source": "### Description\n\nWeather generators are computational models which generate (daily) synthetic series of random values simulating the distribution of a particular meteorological variable. Precipitation is the most popular example due to its mixed character: discrete (ocurrence: dry or wet) and continuous (rain amount for wet days). The discrete part is typically characterized by the frequency of wet/dry days (say, e.g. 0.53/0.47 in Santander), whereas the continuous is typically characterized by an exponential distribution defined by a rate parameter.\n\nThe main control structures (conditionals and loops) will be used and applied to build a simple weather generator and create artificial precipitation amount series. Some functions which simulate (pseudo)random numbers from different families of distributions (uniform and exponential) will also be used. This is a key task for several computational statistics problems."
    },
    {
      "metadata": {},
      "cell_type": "markdown",
      "source": "### How does a precipitation time series look like?\n\nIn order to work with real data, we will use two files with daily information for two weather stations: Santander CMT (RR_STAID003922.txt) and Santander/Parayas (RR_STAID003923.txt). The former is located in the Santander regional center (close to el Faro de Cabo Mayor) and the latter is located in Santander airport. \n\n#### ::GMG::Task 1\n\nI will open Santander CMT dataset (RR_STAID003922.txt) and see the structure. it has some lines with information (to be skipped) and then a header followed by number in columns (STAID: the code of the station; SOUI: the international code of the station; DATA: the day; RR: precipitation value; Q_RR: a quality control flat, 0: OK; 9: missing data.\n\n::GMG::First 20 line metadata exceprt ...\n\n> EUROPEAN CLIMATE ASSESSMENT & DATASET (ECA&D), file created on: 10-11-2017\n>\n> THESE DATA CAN BE USED FREELY FOR NON-COMMERCIAL RESEARCH PROVIDED THAT THE FOLLOWING SOURCE IS ACKNOWLEDGED: \n>\n> Klein Tank, A.M.G. and Coauthors, 2002. Daily dataset of 20th-century surface\nair temperature and precipitation series for the European Climate Assessment.\nInt. J. of Climatol., 22, 1441-1453.\n>\n> Data and metadata available at http://www.ecad.eu\n>\n> FILE FORMAT (MISSING VALUE CODE = -9999):\n>\n> 01-06 STAID: Station identifier\n> 08-13 SOUID: Source identifier\n> 15-22 DATE : Date YYYYMMDD\n> 24-28 RR   : Precipitation amount in 0.1 mm\n> 30-34 Q_RR : quality code for RR (0='valid'; 1='suspect'; 9='missing')\n>\n> This is the blended series of station SANTANDER CMT, SPAIN (STAID: 3922)\n>\n> Blended and updated with sources:19972 19981 908023 \n>\n> See files sources.txt and stations.txt for more info."
    },
    {
      "metadata": {},
      "cell_type": "markdown",
      "source": "#### ::GMG::Task 2\n\nI will load the Santander CMT dataset and plot the first year available of precipitation data (RR column, year 1924 it seems ...). As the precipitation data is in 0.1 mm units so the actual mm (l/m²) is the data value divided by 10. I will also check that the dataset has no suspect or missing values."
    },
    {
      "metadata": {
        "trusted": true
      },
      "cell_type": "code",
      "source": "import pandas as pd\nimport numpy as np\n\n#::GMG::Loading data for Santander CMT\n#       Skip first 20 line dataset description and include header with column names:\n#\n#       01-06 STAID: Station identifier\n#       08-13 SOUID: Source identifier\n#       15-22 DATE : Date YYYYMMDD\n#       24-28 RR   : Precipitation amount in 0.1 mm\n#       30-34 Q_RR : quality code for RR (0='valid'; 1='suspect'; 9='missing')\n#\n#       FILE FORMAT (MISSING VALUE CODE = -9999)\n#\n#::GMG::Pandas read_csv\n#       https://pandas.pydata.org/pandas-docs/stable/generated/pandas.read_csv.html\n#\n#       Skip 20 first rows ...\n#       https://stackoverflow.com/questions/20637439/skip-rows-during-csv-import-pandas#\n#       https://stackoverflow.com/questions/27325652/python-pandas-read-csv-skip-rows-but-keep-header/27325729#\n#\nprecip_s = pd.read_csv('RR_STAID003922.txt',skiprows=range(0, 20))",
      "execution_count": 6,
      "outputs": []
    },
    {
      "metadata": {
        "trusted": true
      },
      "cell_type": "code",
      "source": "#::GMG::Print the basics of tha dataset\n#       see: https://www.shanelynn.ie/using-pandas-dataframe-creating-editing-viewing-data-in-python/\n#            https://www.quora.com/How-do-I-get-the-number-of-columns-in-a-pandas-dataframe\n#  \n#display((type(precip_s),' with ', precip_s.size, ' columns and ', precip_s.count+1,' rows.'))\n#print (type(precip_s),'If there was a birth every 7 seconds, there would be: ',births,'births')\nprint(type(precip_s))\nprint ('Dataset has {0[0]} rows x {0[1]} columns.'.format(precip_s.shape))\n#print('{} rows x {} columns'.format(precip_s.shape))\nprint('::GMG::Messy columns here (i.e. leading spaces and all): \\n',precip_s.columns)\n#::GMG::There are 'messy' column names with spaces ... bound to trouble here!\n#  see:\n#    https://medium.com/@chaimgluck1/working-with-pandas-fixing-messy-column-names-42a54a6659cd\n#    https://stackoverflow.com/questions/21606987/how-can-i-strip-the-whitespace-from-pandas-dataframe-headers   \n#\nprecip_s.columns = precip_s.columns.str.strip()\nprint('Now they are proper colmuns: \\n',precip_s.columns)",
      "execution_count": 54,
      "outputs": [
        {
          "output_type": "stream",
          "text": "<class 'pandas.core.frame.DataFrame'>\nDataset has 34273 rows x 5 columns.\n::GMG::Messy columns here (i.e. leading spaces and all): \n Index(['STAID', 'SOUID', 'DATE', 'RR', 'Q_RR'], dtype='object')\nNow they are proper colmuns: \n Index(['STAID', 'SOUID', 'DATE', 'RR', 'Q_RR'], dtype='object')\n",
          "name": "stdout"
        }
      ]
    },
    {
      "metadata": {
        "trusted": true
      },
      "cell_type": "code",
      "source": "print('Counting data per column: \\n', precip_s.count())\nprint('Column (numpy) data types: \\n', precip_s.dtypes)\nprint('Some statistics on RR series (mm ~ l/m²):')\nprint((precip_s['RR']/10).describe())",
      "execution_count": 58,
      "outputs": [
        {
          "output_type": "stream",
          "text": "Counting data per column: \n STAID    34273\nSOUID    34273\nDATE     34273\nRR       34273\nQ_RR     34273\ndtype: int64\nColumn (numpy) data types: \n STAID    int64\nSOUID    int64\nDATE     int64\nRR       int64\nQ_RR     int64\ndtype: object\nSome statistics on RR series (mm ~ l/m²):\ncount    34273.000000\nmean         3.182873\nstd          7.264932\nmin          0.000000\n25%          0.000000\n50%          0.000000\n75%          3.000000\nmax        126.200000\nName: RR, dtype: float64\n",
          "name": "stdout"
        }
      ]
    },
    {
      "metadata": {
        "trusted": true
      },
      "cell_type": "code",
      "source": "print(\"First rows ...\")\nprecip_s.head(20)",
      "execution_count": 14,
      "outputs": [
        {
          "output_type": "stream",
          "text": "First rows ...\n",
          "name": "stdout"
        },
        {
          "output_type": "execute_result",
          "execution_count": 14,
          "data": {
            "text/html": "<div>\n<style scoped>\n    .dataframe tbody tr th:only-of-type {\n        vertical-align: middle;\n    }\n\n    .dataframe tbody tr th {\n        vertical-align: top;\n    }\n\n    .dataframe thead th {\n        text-align: right;\n    }\n</style>\n<table border=\"1\" class=\"dataframe\">\n  <thead>\n    <tr style=\"text-align: right;\">\n      <th></th>\n      <th>STAID</th>\n      <th>SOUID</th>\n      <th>DATE</th>\n      <th>RR</th>\n      <th>Q_RR</th>\n    </tr>\n  </thead>\n  <tbody>\n    <tr>\n      <th>0</th>\n      <td>3922</td>\n      <td>19972</td>\n      <td>19240101</td>\n      <td>1</td>\n      <td>0</td>\n    </tr>\n    <tr>\n      <th>1</th>\n      <td>3922</td>\n      <td>19972</td>\n      <td>19240102</td>\n      <td>25</td>\n      <td>0</td>\n    </tr>\n    <tr>\n      <th>2</th>\n      <td>3922</td>\n      <td>19972</td>\n      <td>19240103</td>\n      <td>7</td>\n      <td>0</td>\n    </tr>\n    <tr>\n      <th>3</th>\n      <td>3922</td>\n      <td>19972</td>\n      <td>19240104</td>\n      <td>96</td>\n      <td>0</td>\n    </tr>\n    <tr>\n      <th>4</th>\n      <td>3922</td>\n      <td>19972</td>\n      <td>19240105</td>\n      <td>0</td>\n      <td>0</td>\n    </tr>\n    <tr>\n      <th>5</th>\n      <td>3922</td>\n      <td>19972</td>\n      <td>19240106</td>\n      <td>0</td>\n      <td>0</td>\n    </tr>\n    <tr>\n      <th>6</th>\n      <td>3922</td>\n      <td>19972</td>\n      <td>19240107</td>\n      <td>4</td>\n      <td>0</td>\n    </tr>\n    <tr>\n      <th>7</th>\n      <td>3922</td>\n      <td>19972</td>\n      <td>19240108</td>\n      <td>15</td>\n      <td>0</td>\n    </tr>\n    <tr>\n      <th>8</th>\n      <td>3922</td>\n      <td>19972</td>\n      <td>19240109</td>\n      <td>65</td>\n      <td>0</td>\n    </tr>\n    <tr>\n      <th>9</th>\n      <td>3922</td>\n      <td>19972</td>\n      <td>19240110</td>\n      <td>13</td>\n      <td>0</td>\n    </tr>\n    <tr>\n      <th>10</th>\n      <td>3922</td>\n      <td>19972</td>\n      <td>19240111</td>\n      <td>0</td>\n      <td>0</td>\n    </tr>\n    <tr>\n      <th>11</th>\n      <td>3922</td>\n      <td>19972</td>\n      <td>19240112</td>\n      <td>0</td>\n      <td>0</td>\n    </tr>\n    <tr>\n      <th>12</th>\n      <td>3922</td>\n      <td>19972</td>\n      <td>19240113</td>\n      <td>0</td>\n      <td>0</td>\n    </tr>\n    <tr>\n      <th>13</th>\n      <td>3922</td>\n      <td>19972</td>\n      <td>19240114</td>\n      <td>0</td>\n      <td>0</td>\n    </tr>\n    <tr>\n      <th>14</th>\n      <td>3922</td>\n      <td>19972</td>\n      <td>19240115</td>\n      <td>5</td>\n      <td>0</td>\n    </tr>\n    <tr>\n      <th>15</th>\n      <td>3922</td>\n      <td>19972</td>\n      <td>19240116</td>\n      <td>33</td>\n      <td>0</td>\n    </tr>\n    <tr>\n      <th>16</th>\n      <td>3922</td>\n      <td>19972</td>\n      <td>19240117</td>\n      <td>6</td>\n      <td>0</td>\n    </tr>\n    <tr>\n      <th>17</th>\n      <td>3922</td>\n      <td>19972</td>\n      <td>19240118</td>\n      <td>0</td>\n      <td>0</td>\n    </tr>\n    <tr>\n      <th>18</th>\n      <td>3922</td>\n      <td>19972</td>\n      <td>19240119</td>\n      <td>30</td>\n      <td>0</td>\n    </tr>\n    <tr>\n      <th>19</th>\n      <td>3922</td>\n      <td>19972</td>\n      <td>19240120</td>\n      <td>0</td>\n      <td>0</td>\n    </tr>\n  </tbody>\n</table>\n</div>",
            "text/plain": "    STAID   SOUID      DATE     RR   Q_RR\n0    3922   19972  19240101      1      0\n1    3922   19972  19240102     25      0\n2    3922   19972  19240103      7      0\n3    3922   19972  19240104     96      0\n4    3922   19972  19240105      0      0\n5    3922   19972  19240106      0      0\n6    3922   19972  19240107      4      0\n7    3922   19972  19240108     15      0\n8    3922   19972  19240109     65      0\n9    3922   19972  19240110     13      0\n10   3922   19972  19240111      0      0\n11   3922   19972  19240112      0      0\n12   3922   19972  19240113      0      0\n13   3922   19972  19240114      0      0\n14   3922   19972  19240115      5      0\n15   3922   19972  19240116     33      0\n16   3922   19972  19240117      6      0\n17   3922   19972  19240118      0      0\n18   3922   19972  19240119     30      0\n19   3922   19972  19240120      0      0"
          },
          "metadata": {}
        }
      ]
    },
    {
      "metadata": {
        "trusted": true
      },
      "cell_type": "code",
      "source": "print(\"... last rows.\")\nprecip_s.tail(20)",
      "execution_count": 15,
      "outputs": [
        {
          "output_type": "stream",
          "text": "... last rows.\n",
          "name": "stdout"
        },
        {
          "output_type": "execute_result",
          "execution_count": 15,
          "data": {
            "text/html": "<div>\n<style scoped>\n    .dataframe tbody tr th:only-of-type {\n        vertical-align: middle;\n    }\n\n    .dataframe tbody tr th {\n        vertical-align: top;\n    }\n\n    .dataframe thead th {\n        text-align: right;\n    }\n</style>\n<table border=\"1\" class=\"dataframe\">\n  <thead>\n    <tr style=\"text-align: right;\">\n      <th></th>\n      <th>STAID</th>\n      <th>SOUID</th>\n      <th>DATE</th>\n      <th>RR</th>\n      <th>Q_RR</th>\n    </tr>\n  </thead>\n  <tbody>\n    <tr>\n      <th>34253</th>\n      <td>3922</td>\n      <td>19981</td>\n      <td>20171012</td>\n      <td>0</td>\n      <td>0</td>\n    </tr>\n    <tr>\n      <th>34254</th>\n      <td>3922</td>\n      <td>19981</td>\n      <td>20171013</td>\n      <td>0</td>\n      <td>0</td>\n    </tr>\n    <tr>\n      <th>34255</th>\n      <td>3922</td>\n      <td>19981</td>\n      <td>20171014</td>\n      <td>0</td>\n      <td>0</td>\n    </tr>\n    <tr>\n      <th>34256</th>\n      <td>3922</td>\n      <td>19981</td>\n      <td>20171015</td>\n      <td>0</td>\n      <td>0</td>\n    </tr>\n    <tr>\n      <th>34257</th>\n      <td>3922</td>\n      <td>19981</td>\n      <td>20171016</td>\n      <td>0</td>\n      <td>0</td>\n    </tr>\n    <tr>\n      <th>34258</th>\n      <td>3922</td>\n      <td>19981</td>\n      <td>20171017</td>\n      <td>0</td>\n      <td>0</td>\n    </tr>\n    <tr>\n      <th>34259</th>\n      <td>3922</td>\n      <td>19981</td>\n      <td>20171018</td>\n      <td>40</td>\n      <td>0</td>\n    </tr>\n    <tr>\n      <th>34260</th>\n      <td>3922</td>\n      <td>19981</td>\n      <td>20171019</td>\n      <td>36</td>\n      <td>0</td>\n    </tr>\n    <tr>\n      <th>34261</th>\n      <td>3922</td>\n      <td>19981</td>\n      <td>20171020</td>\n      <td>8</td>\n      <td>0</td>\n    </tr>\n    <tr>\n      <th>34262</th>\n      <td>3922</td>\n      <td>19981</td>\n      <td>20171021</td>\n      <td>6</td>\n      <td>0</td>\n    </tr>\n    <tr>\n      <th>34263</th>\n      <td>3922</td>\n      <td>19981</td>\n      <td>20171022</td>\n      <td>10</td>\n      <td>0</td>\n    </tr>\n    <tr>\n      <th>34264</th>\n      <td>3922</td>\n      <td>19981</td>\n      <td>20171023</td>\n      <td>0</td>\n      <td>0</td>\n    </tr>\n    <tr>\n      <th>34265</th>\n      <td>3922</td>\n      <td>19981</td>\n      <td>20171024</td>\n      <td>0</td>\n      <td>0</td>\n    </tr>\n    <tr>\n      <th>34266</th>\n      <td>3922</td>\n      <td>19981</td>\n      <td>20171025</td>\n      <td>0</td>\n      <td>0</td>\n    </tr>\n    <tr>\n      <th>34267</th>\n      <td>3922</td>\n      <td>19981</td>\n      <td>20171026</td>\n      <td>0</td>\n      <td>0</td>\n    </tr>\n    <tr>\n      <th>34268</th>\n      <td>3922</td>\n      <td>19981</td>\n      <td>20171027</td>\n      <td>0</td>\n      <td>0</td>\n    </tr>\n    <tr>\n      <th>34269</th>\n      <td>3922</td>\n      <td>19981</td>\n      <td>20171028</td>\n      <td>0</td>\n      <td>0</td>\n    </tr>\n    <tr>\n      <th>34270</th>\n      <td>3922</td>\n      <td>19981</td>\n      <td>20171029</td>\n      <td>21</td>\n      <td>0</td>\n    </tr>\n    <tr>\n      <th>34271</th>\n      <td>3922</td>\n      <td>19981</td>\n      <td>20171030</td>\n      <td>17</td>\n      <td>0</td>\n    </tr>\n    <tr>\n      <th>34272</th>\n      <td>3922</td>\n      <td>19981</td>\n      <td>20171031</td>\n      <td>0</td>\n      <td>0</td>\n    </tr>\n  </tbody>\n</table>\n</div>",
            "text/plain": "       STAID   SOUID      DATE     RR   Q_RR\n34253   3922   19981  20171012      0      0\n34254   3922   19981  20171013      0      0\n34255   3922   19981  20171014      0      0\n34256   3922   19981  20171015      0      0\n34257   3922   19981  20171016      0      0\n34258   3922   19981  20171017      0      0\n34259   3922   19981  20171018     40      0\n34260   3922   19981  20171019     36      0\n34261   3922   19981  20171020      8      0\n34262   3922   19981  20171021      6      0\n34263   3922   19981  20171022     10      0\n34264   3922   19981  20171023      0      0\n34265   3922   19981  20171024      0      0\n34266   3922   19981  20171025      0      0\n34267   3922   19981  20171026      0      0\n34268   3922   19981  20171027      0      0\n34269   3922   19981  20171028      0      0\n34270   3922   19981  20171029     21      0\n34271   3922   19981  20171030     17      0\n34272   3922   19981  20171031      0      0"
          },
          "metadata": {}
        }
      ]
    }
  ],
  "metadata": {
    "kernelspec": {
      "name": "python36",
      "display_name": "Python 3.6",
      "language": "python"
    },
    "language_info": {
      "mimetype": "text/x-python",
      "nbconvert_exporter": "python",
      "name": "python",
      "pygments_lexer": "ipython3",
      "version": "3.6.6",
      "file_extension": ".py",
      "codemirror_mode": {
        "version": 3,
        "name": "ipython"
      }
    }
  },
  "nbformat": 4,
  "nbformat_minor": 2
}