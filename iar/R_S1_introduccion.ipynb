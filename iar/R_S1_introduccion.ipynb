{
 "cells": [
  {
   "cell_type": "markdown",
   "metadata": {
    "button": false,
    "new_sheet": false,
    "run_control": {
     "read_only": false
    }
   },
   "source": [
    "# R: Introducción y estructuras de datos"
   ]
  },
  {
   "cell_type": "markdown",
   "metadata": {},
   "source": [
    "**Profesores:**  \n",
    "Rodrigo Manzanas (rmanzanas@ifca.unican.es)  \n",
    "Catharina Graafland (catharina.graafland@unican.es)  "
   ]
  },
  {
   "cell_type": "markdown",
   "metadata": {
    "button": false,
    "new_sheet": false,
    "run_control": {
     "read_only": false
    }
   },
   "source": [
    "## ¿Qué es R?\n",
    "\n",
    "* En 1976, John Chambers, Rick Becker y Allan Wilks desarrollaron *S* como un conjunto de macros Fortran, que se convirtieron en el entorno de análisis estadístico de Bell Labs.\n",
    "* En 1988, se reescribió completamente S (S3) en código C. Diez años más tarde, en 1998, se lanzó la S4, que contenía un conjunto de características orientadas a objetos más avanzadas que las de S3. S4 (y su versión comercial S-Plus) siguen estando vigentes en la actualidad.\n",
    "* En pocas palabras, R es un dialecto libre del lenguaje S, desarrollado en 1993 por Robert Gentleman y Ross Ihaka del departamento de Estadística de la Universidad de Auckland.\n",
    "* Con más de 2 millones de usuarios a nivel mundial, R se ha convertido rápidamente en el lenguaje de programación líder en estadística y ciencia de datos. Cada año, el número de usuarios de R crece en un 40%, y cada vez más organizaciones lo están usando para sus actividades cotidianas. Sus características básicas son:\n",
    "  + software libre de código abierto -> desarrolladores de todo el mundo contribuyen con paquetes que permiten realizar análisis cada vez más específicos y sofisticados. No hay limitaciones.   \n",
    "  + está en constante evolución y se dispone de una amplia documentación. Hay mucha información disponible en foros como Stackoverflow.\n",
    "  + gran capacidad de gráficos para visualizar información compleja de una forma sencilla. \n",
    "  + muy flexible, puede trabajar con datos procedentes de todo tipo de archivos: .txt, .csv, JSON, etc.\n",
    "* Existen múltiples guías para el aprendizaje y uso de R. Algunas de las más populares son las siguientes:\n",
    "  + \"Introduccion a R\": http://cran.r-project.org/doc/contrib/R-intro-1.1.0-espanol.1.pdf\n",
    "  + \"R para principiantes\": https://cran.r-project.org/doc/contrib/rdebuts_es.pdf\n",
    "  + \"The R book\": ftp://ftp.tuebingen.mpg.de/pub/kyb/bresciani/Crawley%20-%20The%20R%20Book.pdf"
   ]
  },
  {
   "cell_type": "markdown",
   "metadata": {
    "button": false,
    "new_sheet": false,
    "run_control": {
     "read_only": false
    }
   },
   "source": [
    "## Primeros pasos con R\n",
    "\n",
    "* Instalación:\n",
    " + Desde la paǵina de CRAN (Comprehensive R Archive Network): https://cran.r-project.org/mirrors.html. CRAN es el repositorio oficial de R (y la mayoría de sus paquetes), el cual es coordinado por la \"R foundation\" y mantenido por la comunidad de usuarios de R en todo el mundo. En Ubuntu y otras distribuciones Linux suele bastar con ejecutar `sudo apt-get install r-base`\n",
    "   + Suele publicarse una nueva versión de R cada seis meses. Es conveniente utilizar siempre la última versión.\n",
    "* R es un lenguaje de programación orientado a objetos, muy similar en sintaxis a C y C++. Todo en R son objetos: un valor numérico es un objeto, un vector es un objeto, una función es un objeto, una base de datos es un objeto, un gráfico es un objeto... Entre otras cosas, esto significa que una misma función puede hacer cosas distintas según la clase del objeto que recibe como argumento, pudiendo incluso no hacer nada (o producir un error) si se le pasan argumentos de una clase inadecuada.\n",
    "* El nombre de un objeto de R puede ser cualquier cadena alfanumérica formada por letras (R distingue entre mayúsculas y minúsculas), dígitos del 0 al 9 (nunca en primera posición del nombre) y los signos \".\" y \"\\_\". Por ejemplo, *Var123* o *Var.123* son nombres válidos.\n",
    "\n",
    "### R desde terminal\n",
    "\n",
    "* Para abrir una sesión de R, simplemente ejecuta la orden `R` desde la terminal. Algunos comandos básicos son los siguientes:\n",
    "\n",
    "`# esto es un comentario\n",
    "getwd()  # muestra el directorio de trabajo actual\n",
    "setwd(\"/home/jovyan/panorama/R\")  # especifica un nuevo directorio de trabajo\n",
    "list.files()  # lista el contenido del directorio de trabajo \n",
    "ls()  # lista los objetos guardados en memoria en la sesión de trabajo actual\n",
    "quit()  # cierra la sesión actual`\n",
    "\n",
    "* Uso de R como calculadora:\n",
    "\n",
    "`2+2\n",
    "10/2\n",
    "sqrt(8)\n",
    "3^2\n",
    "log(7)\n",
    "x <- 5; y <- 6; x+y  # las expresiones \"<-\" y \"=\" son equivalentes`\n",
    "\n",
    "### R en Jupyter\n",
    "\n",
    "* Para poder usar R desde Jupyter necesitamos instalar primero *IRKernell* (kernel de R). [IRKernel](https://irkernel.github.io/) permite incorporar celdas que calculen utilizando R como lenguaje de programación. Para su instalación es [necesario](https://irkernel.github.io/requirements/) tener instalado R en la instancia de Jupyter. En ese caso, la instalación básica del kernel se realiza siguiendo las siguientes [instrucciones](https://irkernel.github.io/installation/#binary-panel):\n",
    "\n",
    " 1) Se instalan desde la consola de R los paquetes necesarios, incluido IRKernel:\n",
    " \n",
    "   `install.packages(c('repr', 'IRdisplay', 'evaluate', 'crayon', 'pbdZMQ', 'devtools', 'uuid', 'digest'))`   \n",
    "   `devtools::install_github('IRkernel/IRkernel')`\n",
    "   \n",
    " 2) A continuación debe hacerse visible el kernel desde Jupyter. Para ello, debemos ejecutar desde R:\n",
    " \n",
    "   `IRkernel::installspec()`   \n",
    "   \n",
    "Ahora se activará dentro del menú *Kernel* de Jupyter una nueva opción `R` para utilizar celdas con ese lenguaje.\n",
    "\n",
    "En ocasiones puede ocurrir que la instalación del kernel no se propague al notebook de modo que no permita seleccionar el Kernel de `R`. En ese caso debemos, por un lado, revisar el listado de kernels (desde la terminal de Jupyter)\n",
    "\n",
    "   `jupyter kernelspec list`\n",
    "   \n",
    "y a continuación, en caso de que esté disponible el kernel, forzar su instalación\n",
    "\n",
    "   `jupyter kernelspec install /path/jupyter/kernels/ir`\n",
    "\n",
    "En dicho momento se activará la opción de ese kernel en el notebook."
   ]
  },
  {
   "cell_type": "markdown",
   "metadata": {
    "button": false,
    "new_sheet": false,
    "run_control": {
     "read_only": false
    }
   },
   "source": [
    "## Estructuras de datos en R\n",
    "\n",
    "* Como ya hemos comentado, las entidades que R crea y manipula se denominan objetos, y pueden ser de distintos tipos.    \n",
    "  + Los atributos de un objeto suministran información específica sobre el propio objeto.\n",
    "  + Un objeto siempre lleva como attributo la longitud y la clase\n",
    "    + La función `class()` devuelve la clase del objeto.  \n",
    "    + La función `length()` devuelve la longitud del objeto.  \n",
    "    + La función `str()` da informacion sobre todo la estructura del objeto.  \n",
    "\n",
    "* R dispone las siguientes estructuras de datos (clases).\n",
    "  + vector\n",
    "  + matrix\n",
    "  + array\n",
    "  + factor\n",
    "  + list\n",
    "  + data.frame\n",
    "\n",
    "* Estas estructuras pueden estar formadas por un único o varios tipos de datos (clases atómicas).\n",
    "  + Enteros  - **integer** (2L, as.integer(3), etc.)\n",
    "  + Numérico - **numeric/double**: (números reales) (2, 2.0, pi, Inf, etc.) \n",
    "  + Complejo - **complex** (1 + 0i, 1 + 4i, etc.)\n",
    "    + Los operadores aritméticos elementales son los habituales: +, -, /, ^ ,%%,%/%...\n",
    "  + Lógicos - **logical** (TRUE, FALSE) \n",
    "    + Operadores lógicos: ==, =!, <=, >=, <, >, && ...\n",
    "  + Caracteres - **character** (e.g, \"Hola\", \"mundo\")\n",
    "    - Operador para caracteres: Concatenación con la función `paste()`"
   ]
  },
  {
   "cell_type": "markdown",
   "metadata": {},
   "source": [
    "Ejemplos del uso de operadores:"
   ]
  },
  {
   "cell_type": "code",
   "execution_count": 1,
   "metadata": {},
   "outputs": [
    {
     "data": {
      "text/html": [
       "1"
      ],
      "text/latex": [
       "1"
      ],
      "text/markdown": [
       "1"
      ],
      "text/plain": [
       "[1] 1"
      ]
     },
     "metadata": {},
     "output_type": "display_data"
    },
    {
     "data": {
      "text/html": [
       "2"
      ],
      "text/latex": [
       "2"
      ],
      "text/markdown": [
       "2"
      ],
      "text/plain": [
       "[1] 2"
      ]
     },
     "metadata": {},
     "output_type": "display_data"
    },
    {
     "data": {
      "text/html": [
       "8"
      ],
      "text/latex": [
       "8"
      ],
      "text/markdown": [
       "8"
      ],
      "text/plain": [
       "[1] 8"
      ]
     },
     "metadata": {},
     "output_type": "display_data"
    },
    {
     "data": {
      "text/html": [
       "1+5i"
      ],
      "text/latex": [
       "1+5i"
      ],
      "text/markdown": [
       "1+5i"
      ],
      "text/plain": [
       "[1] 1+5i"
      ]
     },
     "metadata": {},
     "output_type": "display_data"
    }
   ],
   "source": [
    "# Operadores numéricos\n",
    "# módulo\n",
    "5%%2\n",
    "# división entera\n",
    "5%/%2\n",
    "# potencias\n",
    "2^3\n",
    "# multiplicación entre numeros complejos\n",
    "1+2i*2+1i"
   ]
  },
  {
   "cell_type": "code",
   "execution_count": 2,
   "metadata": {},
   "outputs": [
    {
     "data": {
      "text/html": [
       "TRUE"
      ],
      "text/latex": [
       "TRUE"
      ],
      "text/markdown": [
       "TRUE"
      ],
      "text/plain": [
       "[1] TRUE"
      ]
     },
     "metadata": {},
     "output_type": "display_data"
    },
    {
     "data": {
      "text/html": [
       "FALSE"
      ],
      "text/latex": [
       "FALSE"
      ],
      "text/markdown": [
       "FALSE"
      ],
      "text/plain": [
       "[1] FALSE"
      ]
     },
     "metadata": {},
     "output_type": "display_data"
    },
    {
     "data": {
      "text/html": [
       "FALSE"
      ],
      "text/latex": [
       "FALSE"
      ],
      "text/markdown": [
       "FALSE"
      ],
      "text/plain": [
       "[1] FALSE"
      ]
     },
     "metadata": {},
     "output_type": "display_data"
    },
    {
     "data": {
      "text/html": [
       "TRUE"
      ],
      "text/latex": [
       "TRUE"
      ],
      "text/markdown": [
       "TRUE"
      ],
      "text/plain": [
       "[1] TRUE"
      ]
     },
     "metadata": {},
     "output_type": "display_data"
    },
    {
     "data": {
      "text/html": [
       "TRUE"
      ],
      "text/latex": [
       "TRUE"
      ],
      "text/markdown": [
       "TRUE"
      ],
      "text/plain": [
       "[1] TRUE"
      ]
     },
     "metadata": {},
     "output_type": "display_data"
    }
   ],
   "source": [
    "# operadores lógicos\n",
    "5 > 4\n",
    "4 == 3\n",
    "FALSE && TRUE\n",
    "FALSE || TRUE\n",
    "4 && 1 # TRUE: todos los números más Inf, salvo cero"
   ]
  },
  {
   "cell_type": "code",
   "execution_count": 3,
   "metadata": {},
   "outputs": [
    {
     "data": {
      "text/html": [
       "'Hoy es lunes'"
      ],
      "text/latex": [
       "'Hoy es lunes'"
      ],
      "text/markdown": [
       "'Hoy es lunes'"
      ],
      "text/plain": [
       "[1] \"Hoy es lunes\""
      ]
     },
     "metadata": {},
     "output_type": "display_data"
    }
   ],
   "source": [
    "# combinación de cadenas de caracteres\n",
    "paste(\"Hoy\",\"es\",\"lunes\")"
   ]
  },
  {
   "cell_type": "markdown",
   "metadata": {},
   "source": [
    "### Asignación de objetos"
   ]
  },
  {
   "cell_type": "code",
   "execution_count": 4,
   "metadata": {},
   "outputs": [
    {
     "data": {
      "text/html": [
       "3"
      ],
      "text/latex": [
       "3"
      ],
      "text/markdown": [
       "3"
      ],
      "text/plain": [
       "[1] 3"
      ]
     },
     "metadata": {},
     "output_type": "display_data"
    },
    {
     "data": {
      "text/html": [
       "3"
      ],
      "text/latex": [
       "3"
      ],
      "text/markdown": [
       "3"
      ],
      "text/plain": [
       "[1] 3"
      ]
     },
     "metadata": {},
     "output_type": "display_data"
    }
   ],
   "source": [
    "# asignación de un objeto\n",
    "objeto1 <- 3\n",
    "# assign()\n",
    "assign(\"objeto2\", 3)\n",
    "objeto1\n",
    "objeto2"
   ]
  },
  {
   "cell_type": "code",
   "execution_count": 5,
   "metadata": {},
   "outputs": [
    {
     "data": {
      "text/html": [
       "'character'"
      ],
      "text/latex": [
       "'character'"
      ],
      "text/markdown": [
       "'character'"
      ],
      "text/plain": [
       "[1] \"character\""
      ]
     },
     "metadata": {},
     "output_type": "display_data"
    },
    {
     "data": {
      "text/html": [
       "'double'"
      ],
      "text/latex": [
       "'double'"
      ],
      "text/markdown": [
       "'double'"
      ],
      "text/plain": [
       "[1] \"double\""
      ]
     },
     "metadata": {},
     "output_type": "display_data"
    },
    {
     "data": {
      "text/html": [
       "'integer'"
      ],
      "text/latex": [
       "'integer'"
      ],
      "text/markdown": [
       "'integer'"
      ],
      "text/plain": [
       "[1] \"integer\""
      ]
     },
     "metadata": {},
     "output_type": "display_data"
    },
    {
     "data": {
      "text/html": [
       "'complex'"
      ],
      "text/latex": [
       "'complex'"
      ],
      "text/markdown": [
       "'complex'"
      ],
      "text/plain": [
       "[1] \"complex\""
      ]
     },
     "metadata": {},
     "output_type": "display_data"
    },
    {
     "data": {
      "text/html": [
       "'logical'"
      ],
      "text/latex": [
       "'logical'"
      ],
      "text/markdown": [
       "'logical'"
      ],
      "text/plain": [
       "[1] \"logical\""
      ]
     },
     "metadata": {},
     "output_type": "display_data"
    }
   ],
   "source": [
    "# determinación del tipo (clase atómica) de un objeto singular: typeof()\n",
    "a <- \"Hola\"\n",
    "b <- 2\n",
    "c <- 2L\n",
    "d <- 2 + 1i\n",
    "e <- FALSE \n",
    "#\n",
    "typeof(a)\n",
    "typeof(b)\n",
    "typeof(c)\n",
    "typeof(d)\n",
    "typeof(e)"
   ]
  },
  {
   "cell_type": "markdown",
   "metadata": {
    "button": false,
    "new_sheet": false,
    "run_control": {
     "read_only": false
    }
   },
   "source": [
    "## Vectores \n",
    "La estructura más simple es el vector, que es una colección unidimensional ordenada. Un número, por ejemplo, se considera un vector numérico de longitud uno.\n",
    "\n",
    "Tipos de vectores:\n",
    "* numericos \n",
    "* enteros\n",
    "* caracteres \n",
    "* logicals\n",
    "\n",
    "Funciones frecuentemente utilizadas: `length()`, `rev()`, `sort()`"
   ]
  },
  {
   "cell_type": "markdown",
   "metadata": {
    "button": false,
    "new_sheet": false,
    "run_control": {
     "read_only": false
    }
   },
   "source": [
    "+ Vectores numéricos"
   ]
  },
  {
   "cell_type": "code",
   "execution_count": 6,
   "metadata": {},
   "outputs": [
    {
     "name": "stdout",
     "output_type": "stream",
     "text": [
      "[1] 1.1 2.2 3.3 4.4 5.5\n"
     ]
    },
    {
     "data": {
      "text/html": [
       "'numeric'"
      ],
      "text/latex": [
       "'numeric'"
      ],
      "text/markdown": [
       "'numeric'"
      ],
      "text/plain": [
       "[1] \"numeric\""
      ]
     },
     "metadata": {},
     "output_type": "display_data"
    }
   ],
   "source": [
    "# creación de un vector numerico: la función c()\n",
    "x <- c(1.1,2.2,3.3,4.4,5.5)\n",
    "print(x)\n",
    "class(x)"
   ]
  },
  {
   "cell_type": "code",
   "execution_count": 7,
   "metadata": {},
   "outputs": [
    {
     "name": "stdout",
     "output_type": "stream",
     "text": [
      "[1] 0 0 0 0 0\n"
     ]
    },
    {
     "data": {
      "text/html": [
       "'numeric'"
      ],
      "text/latex": [
       "'numeric'"
      ],
      "text/markdown": [
       "'numeric'"
      ],
      "text/plain": [
       "[1] \"numeric\""
      ]
     },
     "metadata": {},
     "output_type": "display_data"
    },
    {
     "name": "stdout",
     "output_type": "stream",
     "text": [
      "[1] 0 0 0 0 0\n"
     ]
    },
    {
     "data": {
      "text/html": [
       "'numeric'"
      ],
      "text/latex": [
       "'numeric'"
      ],
      "text/markdown": [
       "'numeric'"
      ],
      "text/plain": [
       "[1] \"numeric\""
      ]
     },
     "metadata": {},
     "output_type": "display_data"
    }
   ],
   "source": [
    "# creación de un vector de ceros mediante la función numeric\n",
    "x <- numeric(length = 5)\n",
    "print(x)\n",
    "class(x)\n",
    "y <- rep(0, length = 5)\n",
    "print(y)\n",
    "class(y)"
   ]
  },
  {
   "cell_type": "markdown",
   "metadata": {},
   "source": [
    "### Operaciones aritméticas básicas con vectores"
   ]
  },
  {
   "cell_type": "code",
   "execution_count": 8,
   "metadata": {},
   "outputs": [
    {
     "name": "stdout",
     "output_type": "stream",
     "text": [
      "[1] 1.0000000 0.5000000 0.3333333 0.2500000 0.2000000 0.2000000\n",
      "[1] 2 3 4 5 6 6\n",
      "[1]  2  4  6  8 10 10\n",
      "[1]  1  4  9 16 25 25\n"
     ]
    },
    {
     "data": {
      "text/html": [
       "<ol class=list-inline>\n",
       "\t<li>0</li>\n",
       "\t<li>0.693147180559945</li>\n",
       "\t<li>1.09861228866811</li>\n",
       "\t<li>1.38629436111989</li>\n",
       "\t<li>1.6094379124341</li>\n",
       "\t<li>1.6094379124341</li>\n",
       "</ol>\n"
      ],
      "text/latex": [
       "\\begin{enumerate*}\n",
       "\\item 0\n",
       "\\item 0.693147180559945\n",
       "\\item 1.09861228866811\n",
       "\\item 1.38629436111989\n",
       "\\item 1.6094379124341\n",
       "\\item 1.6094379124341\n",
       "\\end{enumerate*}\n"
      ],
      "text/markdown": [
       "1. 0\n",
       "2. 0.693147180559945\n",
       "3. 1.09861228866811\n",
       "4. 1.38629436111989\n",
       "5. 1.6094379124341\n",
       "6. 1.6094379124341\n",
       "\n",
       "\n"
      ],
      "text/plain": [
       "[1] 0.0000000 0.6931472 1.0986123 1.3862944 1.6094379 1.6094379"
      ]
     },
     "metadata": {},
     "output_type": "display_data"
    }
   ],
   "source": [
    "# Los operadores aritméticos básicos se aplican a cada elemento\n",
    "x <- c(1,2,3,4,5,5)\n",
    "print(1/x) # división\n",
    "print(x + 1) # suma\n",
    "print(2 * x) # multiplicación\n",
    "print(x^2) # elevar a una potencia\n",
    "\n",
    "# Otras funciones: log, exp, sin, cos, tan, sqrt\n",
    "log(x)"
   ]
  },
  {
   "cell_type": "code",
   "execution_count": 9,
   "metadata": {},
   "outputs": [
    {
     "name": "stdout",
     "output_type": "stream",
     "text": [
      "[1] 5\n",
      "[1] 1\n",
      "[1] 20\n"
     ]
    }
   ],
   "source": [
    "# max, min, sum \n",
    "x <- c(1,2,3,4,5,5)\n",
    "print(max(x))\n",
    "print(min(x))\n",
    "print(sum(x))"
   ]
  },
  {
   "cell_type": "markdown",
   "metadata": {},
   "source": [
    "#### Operaciones aritméticas entre dos vectores:  \n",
    "El resultado será otro vector con longitud = longitud del vector más largo. El vector más corto será reciclado:"
   ]
  },
  {
   "cell_type": "code",
   "execution_count": 10,
   "metadata": {},
   "outputs": [
    {
     "name": "stderr",
     "output_type": "stream",
     "text": [
      "Warning message in x + y:\n",
      "“longer object length is not a multiple of shorter object length”"
     ]
    },
    {
     "name": "stdout",
     "output_type": "stream",
     "text": [
      "[1] 2 4 6 5 7\n"
     ]
    },
    {
     "name": "stderr",
     "output_type": "stream",
     "text": [
      "Warning message in x - y:\n",
      "“longer object length is not a multiple of shorter object length”"
     ]
    },
    {
     "name": "stdout",
     "output_type": "stream",
     "text": [
      "[1] 0 0 0 3 3\n"
     ]
    },
    {
     "name": "stderr",
     "output_type": "stream",
     "text": [
      "Warning message in x * y:\n",
      "“longer object length is not a multiple of shorter object length”"
     ]
    },
    {
     "name": "stdout",
     "output_type": "stream",
     "text": [
      "[1]  1  4  9  4 10\n"
     ]
    },
    {
     "name": "stderr",
     "output_type": "stream",
     "text": [
      "Warning message in x^y:\n",
      "“longer object length is not a multiple of shorter object length”"
     ]
    },
    {
     "name": "stdout",
     "output_type": "stream",
     "text": [
      "[1]  1  4 27  4 25\n"
     ]
    }
   ],
   "source": [
    "x <- c(1,2,3,4,5)\n",
    "y <- c(1,2,3)\n",
    "\n",
    "print(x + y)\n",
    "print(x - y)\n",
    "print(x*y)\n",
    "print(x^y)"
   ]
  },
  {
   "cell_type": "markdown",
   "metadata": {},
   "source": [
    "\n",
    "Si los objetos `x1` y `x2` son vectores de la misma longitud, el operador `%*%` devuelve el producto interno como un objeto de clase `matrix`"
   ]
  },
  {
   "cell_type": "code",
   "execution_count": 11,
   "metadata": {},
   "outputs": [
    {
     "data": {
      "text/html": [
       "<table>\n",
       "<tbody>\n",
       "\t<tr><td>32</td></tr>\n",
       "</tbody>\n",
       "</table>\n"
      ],
      "text/latex": [
       "\\begin{tabular}{l}\n",
       "\t 32\\\\\n",
       "\\end{tabular}\n"
      ],
      "text/markdown": [
       "\n",
       "| 32 | \n",
       "\n",
       "\n"
      ],
      "text/plain": [
       "     [,1]\n",
       "[1,] 32  "
      ]
     },
     "metadata": {},
     "output_type": "display_data"
    },
    {
     "data": {
      "text/html": [
       "'matrix'"
      ],
      "text/latex": [
       "'matrix'"
      ],
      "text/markdown": [
       "'matrix'"
      ],
      "text/plain": [
       "[1] \"matrix\""
      ]
     },
     "metadata": {},
     "output_type": "display_data"
    }
   ],
   "source": [
    "x1 <- c(1,2,3)\n",
    "x2 <- c(4,5,6)\n",
    "mat.int <- x1 %*% x2\n",
    "mat.int\n",
    "class(mat.int)"
   ]
  },
  {
   "cell_type": "markdown",
   "metadata": {},
   "source": [
    "El producto exterior lo calculamos con la función `outer()` (devuelve un objeto de la clase \"matrix\")\n"
   ]
  },
  {
   "cell_type": "code",
   "execution_count": 12,
   "metadata": {},
   "outputs": [
    {
     "data": {
      "text/html": [
       "<table>\n",
       "<tbody>\n",
       "\t<tr><td> 4</td><td> 5</td><td> 6</td></tr>\n",
       "\t<tr><td> 8</td><td>10</td><td>12</td></tr>\n",
       "\t<tr><td>12</td><td>15</td><td>18</td></tr>\n",
       "</tbody>\n",
       "</table>\n"
      ],
      "text/latex": [
       "\\begin{tabular}{lll}\n",
       "\t  4 &  5 &  6\\\\\n",
       "\t  8 & 10 & 12\\\\\n",
       "\t 12 & 15 & 18\\\\\n",
       "\\end{tabular}\n"
      ],
      "text/markdown": [
       "\n",
       "|  4 |  5 |  6 | \n",
       "|  8 | 10 | 12 | \n",
       "| 12 | 15 | 18 | \n",
       "\n",
       "\n"
      ],
      "text/plain": [
       "     [,1] [,2] [,3]\n",
       "[1,]  4    5    6  \n",
       "[2,]  8   10   12  \n",
       "[3,] 12   15   18  "
      ]
     },
     "metadata": {},
     "output_type": "display_data"
    },
    {
     "data": {
      "text/html": [
       "'matrix'"
      ],
      "text/latex": [
       "'matrix'"
      ],
      "text/markdown": [
       "'matrix'"
      ],
      "text/plain": [
       "[1] \"matrix\""
      ]
     },
     "metadata": {},
     "output_type": "display_data"
    }
   ],
   "source": [
    "mat.ext <- outer(x1,x2)\n",
    "mat.ext\n",
    "class(mat.ext)"
   ]
  },
  {
   "cell_type": "markdown",
   "metadata": {},
   "source": [
    "* **Vectores de enteros / secuencias**"
   ]
  },
  {
   "cell_type": "code",
   "execution_count": 13,
   "metadata": {},
   "outputs": [
    {
     "name": "stdout",
     "output_type": "stream",
     "text": [
      " [1]  1  2  3  4  5  6  7  8  9 10\n",
      "[1]  0  2  4  6  8 10\n",
      "[1] 10  8  6  4  2  0\n"
     ]
    }
   ],
   "source": [
    "# Una secuencia es un vector de enteros\n",
    "seq1 <- 1:10 \n",
    "seq2 <- seq(0, 10, by = 2) \n",
    "seq3 <- seq(10, 0, by = -2) \n",
    "print(seq1)\n",
    "print(seq2)\n",
    "print(seq3)"
   ]
  },
  {
   "cell_type": "code",
   "execution_count": 14,
   "metadata": {},
   "outputs": [
    {
     "name": "stdout",
     "output_type": "stream",
     "text": [
      " [1]  1  2  3  4  5  6  7  8  9 10 11 12\n",
      " [1]  1  2  3  4  5  6  7  8  9 10 10  8  6  4  2  0\n"
     ]
    }
   ],
   "source": [
    "# Añadir elementos mediante la funcion c()\n",
    "print(c(seq1,11,12))\n",
    "print(c(seq1,seq3))"
   ]
  },
  {
   "cell_type": "markdown",
   "metadata": {},
   "source": [
    "\n",
    "---\n",
    "__Ejercicio.__  \n",
    "Crea con las funciones `rep()` and `seq()` el seguiente vector: 11,11,11,1,2,3,4,5,7,9,11"
   ]
  },
  {
   "cell_type": "code",
   "execution_count": 17,
   "metadata": {},
   "outputs": [
    {
     "name": "stdout",
     "output_type": "stream",
     "text": [
      " [1] 11 11 11  1  2  3  4  5  7  9 11\n"
     ]
    }
   ],
   "source": [
    "# Solución\n",
    "x1 <- rep(11,3)\n",
    "x2 <- 1:5\n",
    "x3 <- seq(7,11, by = 2)\n",
    "tot <- c(x1,x2,x3)\n",
    "print(tot)"
   ]
  },
  {
   "cell_type": "markdown",
   "metadata": {},
   "source": [
    "---\n",
    "\n",
    "* **Vectores lógicos, vectores de caracteres...**\n",
    "    "
   ]
  },
  {
   "cell_type": "code",
   "execution_count": 18,
   "metadata": {},
   "outputs": [],
   "source": [
    "logi <- c(FALSE, TRUE)\n",
    "char <- c(\"Hola\",\"que\",\"tal\")"
   ]
  },
  {
   "cell_type": "markdown",
   "metadata": {},
   "source": [
    " ¡Un vector sólamente puede contener un tipo atómico!  \n",
    " Cuando se combinen dos tipos de atomos en un único vector, `R` automaticamente convertirá uno de ellos al tipo del otro.\n"
   ]
  },
  {
   "cell_type": "code",
   "execution_count": 19,
   "metadata": {},
   "outputs": [
    {
     "name": "stdout",
     "output_type": "stream",
     "text": [
      "[1] \"2\"    \"Hola\"\n",
      "[1] \"FALSE\" \"Hola\" \n",
      "[1] 0 2\n"
     ]
    }
   ],
   "source": [
    "# ¿Qué tipo de vector saldrá?\n",
    "print(c(2,\"Hola\"))\n",
    "print(c(FALSE,\"Hola\"))\n",
    "print(c(FALSE,2))"
   ]
  },
  {
   "cell_type": "markdown",
   "metadata": {},
   "source": [
    "Se puede comprobar la clase del vector con las funciones:\n",
    "`is.character()`, `is.numeric()`, `is.integer()`...  \n",
    "Se puede convertir vectores de un tipo a vectores de otro tipo usando las funciones:\n",
    "`as.character()`, `as.integer()`, ...\n"
   ]
  },
  {
   "cell_type": "code",
   "execution_count": 20,
   "metadata": {},
   "outputs": [
    {
     "name": "stdout",
     "output_type": "stream",
     "text": [
      "[1] 1.1 2.2 3.3\n",
      "[1] 1 2 3\n",
      "[1] \"1\" \"2\" \"3\"\n"
     ]
    },
    {
     "data": {
      "text/html": [
       "TRUE"
      ],
      "text/latex": [
       "TRUE"
      ],
      "text/markdown": [
       "TRUE"
      ],
      "text/plain": [
       "[1] TRUE"
      ]
     },
     "metadata": {},
     "output_type": "display_data"
    }
   ],
   "source": [
    "# Ejemplo.\n",
    "r <- c(1.1,2.2,3.3)\n",
    "print(r)\n",
    "r <- as.integer(r)\n",
    "print(r)\n",
    "r <- as.character(r)\n",
    "print(r)\n",
    "is.character(r)"
   ]
  },
  {
   "cell_type": "markdown",
   "metadata": {},
   "source": [
    "---\n",
    "\n",
    "__Ejercicio.__  \n",
    "Crea un vector 'v' con una secuencia de enteros desde el 3 hasta el 10.\n",
    "Convierte 'v' a un vector de tipo caracter.\n",
    "Comprueba la clase de 'v'."
   ]
  },
  {
   "cell_type": "code",
   "execution_count": 26,
   "metadata": {},
   "outputs": [
    {
     "data": {
      "text/html": [
       "<ol class=list-inline>\n",
       "\t<li>'3'</li>\n",
       "\t<li>'4'</li>\n",
       "\t<li>'5'</li>\n",
       "\t<li>'6'</li>\n",
       "\t<li>'7'</li>\n",
       "\t<li>'8'</li>\n",
       "\t<li>'9'</li>\n",
       "\t<li>'10'</li>\n",
       "</ol>\n"
      ],
      "text/latex": [
       "\\begin{enumerate*}\n",
       "\\item '3'\n",
       "\\item '4'\n",
       "\\item '5'\n",
       "\\item '6'\n",
       "\\item '7'\n",
       "\\item '8'\n",
       "\\item '9'\n",
       "\\item '10'\n",
       "\\end{enumerate*}\n"
      ],
      "text/markdown": [
       "1. '3'\n",
       "2. '4'\n",
       "3. '5'\n",
       "4. '6'\n",
       "5. '7'\n",
       "6. '8'\n",
       "7. '9'\n",
       "8. '10'\n",
       "\n",
       "\n"
      ],
      "text/plain": [
       "[1] \"3\"  \"4\"  \"5\"  \"6\"  \"7\"  \"8\"  \"9\"  \"10\""
      ]
     },
     "metadata": {},
     "output_type": "display_data"
    },
    {
     "data": {
      "text/html": [
       "'character'"
      ],
      "text/latex": [
       "'character'"
      ],
      "text/markdown": [
       "'character'"
      ],
      "text/plain": [
       "[1] \"character\""
      ]
     },
     "metadata": {},
     "output_type": "display_data"
    },
    {
     "data": {
      "text/html": [
       "TRUE"
      ],
      "text/latex": [
       "TRUE"
      ],
      "text/markdown": [
       "TRUE"
      ],
      "text/plain": [
       "[1] TRUE"
      ]
     },
     "metadata": {},
     "output_type": "display_data"
    }
   ],
   "source": [
    "# Solución\n",
    "v <- 3:10\n",
    "y <- as.character(v)\n",
    "y\n",
    "class(y)\n",
    "is.character(y)"
   ]
  },
  {
   "cell_type": "markdown",
   "metadata": {},
   "source": [
    "---\n",
    "\n",
    "* **Vectores lógicos**   \n",
    "    - Los vectores lógicos habitualmente resultan de operaciones lógicas.  \n",
    "    - Te indican cuáles son los valores que cumplen la expresion lógica.  \n",
    "    - Los vectores lógicos son útiles para seleccionar subvectores. "
   ]
  },
  {
   "cell_type": "code",
   "execution_count": 27,
   "metadata": {},
   "outputs": [
    {
     "name": "stdout",
     "output_type": "stream",
     "text": [
      " [1]  1  2  3  4  5  6  7  8  9 10\n",
      " [1] FALSE FALSE FALSE FALSE FALSE  TRUE  TRUE  TRUE  TRUE  TRUE\n",
      " [1] FALSE  TRUE FALSE  TRUE FALSE  TRUE FALSE  TRUE FALSE  TRUE\n",
      "[1]  2  4  6  8 10\n"
     ]
    }
   ],
   "source": [
    "x <- 1:10\n",
    "print(x)\n",
    "\n",
    "# construcción de un vector \"logical\" que indica qué elementos de x son mayores que 5 / son par\n",
    "y <- x > 5\n",
    "print(y)\n",
    "\n",
    "z <- x %% 2 == 0\n",
    "print(z)\n",
    "\n",
    "# extraemos los valores pares en un nuevo objeto\n",
    "x2 <- x[z]\n",
    "print(x2)"
   ]
  },
  {
   "cell_type": "markdown",
   "metadata": {
    "button": false,
    "new_sheet": false,
    "run_control": {
     "read_only": false
    }
   },
   "source": [
    "__Otras formas de selección y modificación de subvectores__  \n",
    "Puede seleccionar un subvector de un vector con un vector de índices entre corchetes [...]"
   ]
  },
  {
   "cell_type": "code",
   "execution_count": 28,
   "metadata": {},
   "outputs": [
    {
     "name": "stdout",
     "output_type": "stream",
     "text": [
      "[1] 10 11\n",
      "[1] 10 11\n",
      "[1] 12 13 14 15\n"
     ]
    }
   ],
   "source": [
    "x <- 10:15\n",
    "# selección por vector de índices: un vector de numeros naturales positivos.\n",
    "print(x[1:2])\n",
    "print(x[c(1,2)])\n",
    "print(x[-c(1,2)]) # excluir los dos primeros elementos"
   ]
  },
  {
   "cell_type": "code",
   "execution_count": 29,
   "metadata": {},
   "outputs": [
    {
     "name": "stdout",
     "output_type": "stream",
     "text": [
      "[1] FALSE FALSE FALSE  TRUE  TRUE  TRUE\n",
      "[1] 13 14 15\n"
     ]
    }
   ],
   "source": [
    "x <- 10:15\n",
    "# selección por vector lógico\n",
    "print(x>12)\n",
    "print(x[x>12])"
   ]
  },
  {
   "cell_type": "markdown",
   "metadata": {},
   "source": [
    "---\n",
    "\n",
    "__Ejercicio.__  \n",
    "Crea un vector con algunos de los nombres de tus amigos.  \n",
    "Obtén la longitud del vector anterior.  \n",
    "Crea un subvector con los amigos 2 y 3.  \n",
    "Ordena los nombres de tus amigos alfabéticamente.  \n",
    "Dale la vuelta al vector.\n"
   ]
  },
  {
   "cell_type": "code",
   "execution_count": 30,
   "metadata": {},
   "outputs": [
    {
     "data": {
      "text/html": [
       "3"
      ],
      "text/latex": [
       "3"
      ],
      "text/markdown": [
       "3"
      ],
      "text/plain": [
       "[1] 3"
      ]
     },
     "metadata": {},
     "output_type": "display_data"
    },
    {
     "data": {
      "text/html": [
       "<ol class=list-inline>\n",
       "\t<li>'bRodrigo2'</li>\n",
       "\t<li>'cRodrigo3'</li>\n",
       "</ol>\n"
      ],
      "text/latex": [
       "\\begin{enumerate*}\n",
       "\\item 'bRodrigo2'\n",
       "\\item 'cRodrigo3'\n",
       "\\end{enumerate*}\n"
      ],
      "text/markdown": [
       "1. 'bRodrigo2'\n",
       "2. 'cRodrigo3'\n",
       "\n",
       "\n"
      ],
      "text/plain": [
       "[1] \"bRodrigo2\" \"cRodrigo3\""
      ]
     },
     "metadata": {},
     "output_type": "display_data"
    }
   ],
   "source": [
    "# Solución\n",
    "friends <- c(\"aRodrigo1\",\"bRodrigo2\",\"cRodrigo3\")\n",
    "length(friends)\n",
    "friends[c(2,3)]\n",
    "sorted <- sort(friends)\n",
    "reversed <- rev(sorted)\n",
    "\n"
   ]
  },
  {
   "cell_type": "markdown",
   "metadata": {},
   "source": [
    "---\n",
    "\n",
    "* **Valores faltantes (missing values)**:\n",
    "    + Indicados con NA (Not Available) o NaN (Not A Number).  \n",
    "    + NaN caracteriza un valor que sale de una indeterminación matemática, por ejemplo 0/0  \n",
    "    + Los NA se pueden detectar con la función `is.na()`"
   ]
  },
  {
   "cell_type": "code",
   "execution_count": 35,
   "metadata": {},
   "outputs": [
    {
     "data": {
      "text/html": [
       "0.8"
      ],
      "text/latex": [
       "0.8"
      ],
      "text/markdown": [
       "0.8"
      ],
      "text/plain": [
       "[1] 0.8"
      ]
     },
     "metadata": {},
     "output_type": "display_data"
    },
    {
     "data": {
      "text/html": [
       "<ol class=list-inline>\n",
       "\t<li>FALSE</li>\n",
       "\t<li>FALSE</li>\n",
       "\t<li>FALSE</li>\n",
       "\t<li>FALSE</li>\n",
       "\t<li>TRUE</li>\n",
       "\t<li>FALSE</li>\n",
       "</ol>\n"
      ],
      "text/latex": [
       "\\begin{enumerate*}\n",
       "\\item FALSE\n",
       "\\item FALSE\n",
       "\\item FALSE\n",
       "\\item FALSE\n",
       "\\item TRUE\n",
       "\\item FALSE\n",
       "\\end{enumerate*}\n"
      ],
      "text/markdown": [
       "1. FALSE\n",
       "2. FALSE\n",
       "3. FALSE\n",
       "4. FALSE\n",
       "5. TRUE\n",
       "6. FALSE\n",
       "\n",
       "\n"
      ],
      "text/plain": [
       "[1] FALSE FALSE FALSE FALSE  TRUE FALSE"
      ]
     },
     "metadata": {},
     "output_type": "display_data"
    },
    {
     "data": {
      "text/html": [
       "<ol class=list-inline>\n",
       "\t<li>-1</li>\n",
       "\t<li>-2</li>\n",
       "\t<li>1</li>\n",
       "\t<li>2</li>\n",
       "\t<li>4</li>\n",
       "</ol>\n"
      ],
      "text/latex": [
       "\\begin{enumerate*}\n",
       "\\item -1\n",
       "\\item -2\n",
       "\\item 1\n",
       "\\item 2\n",
       "\\item 4\n",
       "\\end{enumerate*}\n"
      ],
      "text/markdown": [
       "1. -1\n",
       "2. -2\n",
       "3. 1\n",
       "4. 2\n",
       "5. 4\n",
       "\n",
       "\n"
      ],
      "text/plain": [
       "[1] -1 -2  1  2  4"
      ]
     },
     "metadata": {},
     "output_type": "display_data"
    }
   ],
   "source": [
    "x <- c(-1,-2, 1, 2, NA, 4)\n",
    "mean(x, na.rm = TRUE)\n",
    "is.na(x)\n",
    "# elimina los missing values \n",
    "x <- x[(!is.na(x))]\n",
    "x\n",
    "\n"
   ]
  },
  {
   "cell_type": "markdown",
   "metadata": {},
   "source": [
    "---\n",
    "\n",
    "__Ejercicio.__\n",
    "Excluye los valores faltantes y define un vector nuevo que sólo contenga valores positivos. "
   ]
  },
  {
   "cell_type": "code",
   "execution_count": 39,
   "metadata": {},
   "outputs": [
    {
     "name": "stdout",
     "output_type": "stream",
     "text": [
      "[1] 1 2 4 5\n",
      "[1] 1 2 4 5\n"
     ]
    }
   ],
   "source": [
    "x <- c(-5,-4,-3,-2,-1, NA, 1, 2, NA, 4,5)\n",
    "# Solución\n",
    "x <- x[(!is.na(x))& x>0]\n",
    "print(x)\n",
    "x <- x[x>0]\n",
    "print(x)"
   ]
  },
  {
   "cell_type": "markdown",
   "metadata": {
    "button": false,
    "new_sheet": false,
    "run_control": {
     "read_only": false
    }
   },
   "source": [
    "---\n",
    "\n",
    "## Matrices"
   ]
  },
  {
   "cell_type": "markdown",
   "metadata": {},
   "source": [
    "* Las matrices son generalizaciones bidimensionales de los vectores. \n",
    "* Se pueden crear con la función `matrix()`\n",
    "* Se caracterizan por filas y columnas.  \n",
    "* Se imprimen por pantalla de modo especial.  \n",
    "* Llevan por defecto un atributo: `dim`, al cual se puede acceder con las funciones `attributes()` y `dim()`\n",
    "* Se pueden añadir otros atributos: `names`, `row.names`, `col.names`... \n",
    "\n",
    "Funciones utilizadas frecuentemente:\n",
    "`t()`, `diag()`, `det()`, `inv()`"
   ]
  },
  {
   "cell_type": "markdown",
   "metadata": {},
   "source": [
    "---\n",
    "\n",
    "**Ejercicio**. utiliza las funciones `t()`, `diag()`,  `det()`, `inv()` con la matriz que se proporciona a continuación (objeto `mat`). ¿Qué hace cada una de estas funciones?"
   ]
  },
  {
   "cell_type": "code",
   "execution_count": null,
   "metadata": {},
   "outputs": [],
   "source": [
    "# Solución\n",
    "mat <- matrix(1:9, ncol = 3)\n",
    "t(mat)\n",
    "diag(mat)"
   ]
  },
  {
   "cell_type": "markdown",
   "metadata": {},
   "source": [
    "---\n",
    "\n",
    "Crear una matriz vacia:  "
   ]
  },
  {
   "cell_type": "code",
   "execution_count": 40,
   "metadata": {},
   "outputs": [
    {
     "name": "stdout",
     "output_type": "stream",
     "text": [
      "     [,1] [,2] [,3]\n",
      "[1,]   NA   NA   NA\n",
      "[2,]   NA   NA   NA\n"
     ]
    },
    {
     "data": {
      "text/html": [
       "<ol class=list-inline>\n",
       "\t<li>2</li>\n",
       "\t<li>3</li>\n",
       "</ol>\n"
      ],
      "text/latex": [
       "\\begin{enumerate*}\n",
       "\\item 2\n",
       "\\item 3\n",
       "\\end{enumerate*}\n"
      ],
      "text/markdown": [
       "1. 2\n",
       "2. 3\n",
       "\n",
       "\n"
      ],
      "text/plain": [
       "[1] 2 3"
      ]
     },
     "metadata": {},
     "output_type": "display_data"
    }
   ],
   "source": [
    "# Crear una matriz vacía de 2x3 \n",
    "m1 <- matrix(nrow = 2, ncol = 3)\n",
    "print(m1)\n",
    "dim(m1)"
   ]
  },
  {
   "cell_type": "markdown",
   "metadata": {},
   "source": [
    "Crear una matriz numérica"
   ]
  },
  {
   "cell_type": "code",
   "execution_count": 41,
   "metadata": {},
   "outputs": [
    {
     "name": "stdout",
     "output_type": "stream",
     "text": [
      "     [,1] [,2] [,3]\n",
      "[1,]    1    3    5\n",
      "[2,]    2    4    6\n",
      " int [1:2, 1:3] 1 2 3 4 5 6\n"
     ]
    }
   ],
   "source": [
    "m2 <- matrix(1:6, nrow=2, ncol =3)\n",
    "print(m2)\n",
    "str(m2)"
   ]
  },
  {
   "cell_type": "markdown",
   "metadata": {},
   "source": [
    "Crear una matriz a partir de un vector"
   ]
  },
  {
   "cell_type": "code",
   "execution_count": 42,
   "metadata": {},
   "outputs": [
    {
     "name": "stdout",
     "output_type": "stream",
     "text": [
      "     [,1] [,2] [,3] [,4] [,5]\n",
      "[1,]    1    3    5    7    9\n",
      "[2,]    2    4    6    8   10\n"
     ]
    }
   ],
   "source": [
    "m3 <- 1:10\n",
    "dim(m3) <- c(2,5) # establecer dimensiones: dos filas, 5 columnas\n",
    "print(m3)"
   ]
  },
  {
   "cell_type": "markdown",
   "metadata": {},
   "source": [
    "Crear una matriz por concatenación de vectores de igual longitud.\n",
    "* por columnas: `cbind()`\n",
    "* por filas: `rbind()`"
   ]
  },
  {
   "cell_type": "code",
   "execution_count": 43,
   "metadata": {},
   "outputs": [
    {
     "name": "stdout",
     "output_type": "stream",
     "text": [
      "     x  y\n",
      "[1,] 1 10\n",
      "[2,] 2 11\n",
      "[3,] 3 12\n",
      "  [,1] [,2] [,3]\n",
      "x    1    2    3\n",
      "y   10   11   12\n"
     ]
    }
   ],
   "source": [
    "# cbind(arg 1, arg 2, arg 3, ...)\n",
    "x <- 1:3\n",
    "y <- 10:12\n",
    "z1 <- cbind(x,y)\n",
    "print(z1)\n",
    "# or\n",
    "z2 <- rbind(x,y)\n",
    "print(z2)"
   ]
  },
  {
   "cell_type": "markdown",
   "metadata": {},
   "source": [
    "### Operadores aritméticos básicos con matrices.  \n",
    "* Se aplican a cada elemento"
   ]
  },
  {
   "cell_type": "code",
   "execution_count": 44,
   "metadata": {},
   "outputs": [
    {
     "data": {
      "text/html": [
       "<table>\n",
       "<tbody>\n",
       "\t<tr><td>1</td><td>2</td></tr>\n",
       "\t<tr><td>3</td><td>4</td></tr>\n",
       "</tbody>\n",
       "</table>\n"
      ],
      "text/latex": [
       "\\begin{tabular}{ll}\n",
       "\t 1 & 2\\\\\n",
       "\t 3 & 4\\\\\n",
       "\\end{tabular}\n"
      ],
      "text/markdown": [
       "\n",
       "| 1 | 2 | \n",
       "| 3 | 4 | \n",
       "\n",
       "\n"
      ],
      "text/plain": [
       "     [,1] [,2]\n",
       "[1,] 1    2   \n",
       "[2,] 3    4   "
      ]
     },
     "metadata": {},
     "output_type": "display_data"
    }
   ],
   "source": [
    "M <- matrix(c(1,2,3,4), nrow = 2, byrow = TRUE)\n",
    "M"
   ]
  },
  {
   "cell_type": "code",
   "execution_count": 45,
   "metadata": {},
   "outputs": [
    {
     "data": {
      "text/html": [
       "<table>\n",
       "<tbody>\n",
       "\t<tr><td>3</td><td>4</td></tr>\n",
       "\t<tr><td>5</td><td>6</td></tr>\n",
       "</tbody>\n",
       "</table>\n"
      ],
      "text/latex": [
       "\\begin{tabular}{ll}\n",
       "\t 3 & 4\\\\\n",
       "\t 5 & 6\\\\\n",
       "\\end{tabular}\n"
      ],
      "text/markdown": [
       "\n",
       "| 3 | 4 | \n",
       "| 5 | 6 | \n",
       "\n",
       "\n"
      ],
      "text/plain": [
       "     [,1] [,2]\n",
       "[1,] 3    4   \n",
       "[2,] 5    6   "
      ]
     },
     "metadata": {},
     "output_type": "display_data"
    }
   ],
   "source": [
    "M+2"
   ]
  },
  {
   "cell_type": "markdown",
   "metadata": {},
   "source": [
    "Si a una matriz se le suma un vector cuya longitud sea igual al número de filas de la matriz, se obtiene como resultado una nueva matriz cuyas columnas son la suma de las columnas de la matriz original más dicho vector."
   ]
  },
  {
   "cell_type": "code",
   "execution_count": 46,
   "metadata": {},
   "outputs": [
    {
     "data": {
      "text/html": [
       "<table>\n",
       "<tbody>\n",
       "\t<tr><td>4</td><td>5</td></tr>\n",
       "\t<tr><td>7</td><td>8</td></tr>\n",
       "</tbody>\n",
       "</table>\n"
      ],
      "text/latex": [
       "\\begin{tabular}{ll}\n",
       "\t 4 & 5\\\\\n",
       "\t 7 & 8\\\\\n",
       "\\end{tabular}\n"
      ],
      "text/markdown": [
       "\n",
       "| 4 | 5 | \n",
       "| 7 | 8 | \n",
       "\n",
       "\n"
      ],
      "text/plain": [
       "     [,1] [,2]\n",
       "[1,] 4    5   \n",
       "[2,] 7    8   "
      ]
     },
     "metadata": {},
     "output_type": "display_data"
    }
   ],
   "source": [
    "v <- c(3,4)\n",
    "M+v"
   ]
  },
  {
   "cell_type": "markdown",
   "metadata": {},
   "source": [
    "---\n",
    "\n",
    "__Ejercicio.__\n",
    "Descubra lo que ocurre con la diferencia, la multiplicación y la división de una matriz y un vector."
   ]
  },
  {
   "cell_type": "markdown",
   "metadata": {},
   "source": [
    "La suma o resta de matrices de la misma dimensión se realiza con los operadores `+` y `-`.   \n",
    "El producto de matrices (siempre que sean compatibles) se realiza con el símbolo `%*%`."
   ]
  },
  {
   "cell_type": "code",
   "execution_count": 47,
   "metadata": {},
   "outputs": [
    {
     "data": {
      "text/html": [
       "<table>\n",
       "<tbody>\n",
       "\t<tr><td>2</td><td>4</td></tr>\n",
       "\t<tr><td>6</td><td>8</td></tr>\n",
       "</tbody>\n",
       "</table>\n"
      ],
      "text/latex": [
       "\\begin{tabular}{ll}\n",
       "\t 2 & 4\\\\\n",
       "\t 6 & 8\\\\\n",
       "\\end{tabular}\n"
      ],
      "text/markdown": [
       "\n",
       "| 2 | 4 | \n",
       "| 6 | 8 | \n",
       "\n",
       "\n"
      ],
      "text/plain": [
       "     [,1] [,2]\n",
       "[1,] 2    4   \n",
       "[2,] 6    8   "
      ]
     },
     "metadata": {},
     "output_type": "display_data"
    }
   ],
   "source": [
    "M+M"
   ]
  },
  {
   "cell_type": "code",
   "execution_count": 48,
   "metadata": {},
   "outputs": [
    {
     "data": {
      "text/html": [
       "<table>\n",
       "<tbody>\n",
       "\t<tr><td>0</td><td>0</td></tr>\n",
       "\t<tr><td>0</td><td>0</td></tr>\n",
       "</tbody>\n",
       "</table>\n"
      ],
      "text/latex": [
       "\\begin{tabular}{ll}\n",
       "\t 0 & 0\\\\\n",
       "\t 0 & 0\\\\\n",
       "\\end{tabular}\n"
      ],
      "text/markdown": [
       "\n",
       "| 0 | 0 | \n",
       "| 0 | 0 | \n",
       "\n",
       "\n"
      ],
      "text/plain": [
       "     [,1] [,2]\n",
       "[1,] 0    0   \n",
       "[2,] 0    0   "
      ]
     },
     "metadata": {},
     "output_type": "display_data"
    }
   ],
   "source": [
    "M-M"
   ]
  },
  {
   "cell_type": "markdown",
   "metadata": {},
   "source": [
    "Se debe tener cuidado con la multiplicación de matrices:"
   ]
  },
  {
   "cell_type": "code",
   "execution_count": 49,
   "metadata": {},
   "outputs": [
    {
     "name": "stdout",
     "output_type": "stream",
     "text": [
      "     [,1] [,2]\n",
      "[1,]    1    4\n",
      "[2,]    9   16\n",
      "     [,1] [,2]\n",
      "[1,]    7   10\n",
      "[2,]   15   22\n"
     ]
    }
   ],
   "source": [
    "print(M*M)    # multiplicación por cada elemento\n",
    "print(M%*%M)  # multiplicación de matrices"
   ]
  },
  {
   "cell_type": "markdown",
   "metadata": {},
   "source": [
    "---\n",
    "\n",
    "Seleccionar elementos por índices"
   ]
  },
  {
   "cell_type": "code",
   "execution_count": 50,
   "metadata": {},
   "outputs": [
    {
     "name": "stdout",
     "output_type": "stream",
     "text": [
      "     [,1] [,2] [,3]\n",
      "[1,]    1    2    3\n",
      "[2,]    4    5    6\n",
      "[3,]    7    8    9\n"
     ]
    },
    {
     "data": {
      "text/html": [
       "6"
      ],
      "text/latex": [
       "6"
      ],
      "text/markdown": [
       "6"
      ],
      "text/plain": [
       "[1] 6"
      ]
     },
     "metadata": {},
     "output_type": "display_data"
    },
    {
     "data": {
      "text/html": [
       "<ol class=list-inline>\n",
       "\t<li>4</li>\n",
       "\t<li>5</li>\n",
       "\t<li>6</li>\n",
       "</ol>\n"
      ],
      "text/latex": [
       "\\begin{enumerate*}\n",
       "\\item 4\n",
       "\\item 5\n",
       "\\item 6\n",
       "\\end{enumerate*}\n"
      ],
      "text/markdown": [
       "1. 4\n",
       "2. 5\n",
       "3. 6\n",
       "\n",
       "\n"
      ],
      "text/plain": [
       "[1] 4 5 6"
      ]
     },
     "metadata": {},
     "output_type": "display_data"
    },
    {
     "data": {
      "text/html": [
       "<ol class=list-inline>\n",
       "\t<li>3</li>\n",
       "\t<li>6</li>\n",
       "\t<li>9</li>\n",
       "</ol>\n"
      ],
      "text/latex": [
       "\\begin{enumerate*}\n",
       "\\item 3\n",
       "\\item 6\n",
       "\\item 9\n",
       "\\end{enumerate*}\n"
      ],
      "text/markdown": [
       "1. 3\n",
       "2. 6\n",
       "3. 9\n",
       "\n",
       "\n"
      ],
      "text/plain": [
       "[1] 3 6 9"
      ]
     },
     "metadata": {},
     "output_type": "display_data"
    },
    {
     "data": {
      "text/html": [
       "<ol class=list-inline>\n",
       "\t<li>2</li>\n",
       "\t<li>3</li>\n",
       "</ol>\n"
      ],
      "text/latex": [
       "\\begin{enumerate*}\n",
       "\\item 2\n",
       "\\item 3\n",
       "\\end{enumerate*}\n"
      ],
      "text/markdown": [
       "1. 2\n",
       "2. 3\n",
       "\n",
       "\n"
      ],
      "text/plain": [
       "[1] 2 3"
      ]
     },
     "metadata": {},
     "output_type": "display_data"
    }
   ],
   "source": [
    "m <- matrix(1:9, nrow = 3, ncol = 3, byrow = TRUE)\n",
    "print(m)\n",
    "#selección del valor de la fila 2, columna 3\n",
    "m[2,3]\n",
    "#selección de la fila 2 completa\n",
    "m[2,] \n",
    "#selección la columna 3 completa\n",
    "m[,3]\n",
    "#selección del segundo y tercer valor de la fila 1\n",
    "m[1,2:3] "
   ]
  },
  {
   "cell_type": "markdown",
   "metadata": {},
   "source": [
    "---\n",
    "\n",
    "__Ejercicio.__  \n",
    "Crea un vector con 12 enteros.  \n",
    "Convierta el vector a una matriz B de 4 * 3 utilizando la `matrix()`.  \n",
    "Cambie los nombres de las columnas a x, y, z y los nombres de las filas a a, b, c, d.  \n",
    "Extraer una submatriz de B llamado subB. Debe ser una matriz de 3 × 3 que incluya las últimas tres filas de la matriz B y sus columnas correspondientes.\n"
   ]
  },
  {
   "cell_type": "code",
   "execution_count": 52,
   "metadata": {},
   "outputs": [
    {
     "name": "stdout",
     "output_type": "stream",
     "text": [
      "     [,1] [,2] [,3]\n",
      "[1,]    1    5    9\n",
      "[2,]    2    6   10\n",
      "[3,]    3    7   11\n",
      "[4,]    4    8   12\n",
      "  x y  z\n",
      "a 1 5  9\n",
      "b 2 6 10\n",
      "c 3 7 11\n",
      "d 4 8 12\n",
      "  x y  z\n",
      "b 2 6 10\n",
      "c 3 7 11\n",
      "d 4 8 12\n"
     ]
    }
   ],
   "source": [
    "# Solución\n",
    "v <- 1:12\n",
    "B <- matrix(v,nrow = 4, ncol = 3)\n",
    "print(B)\n",
    "colnames(B) <- c(\"x\",\"y\",\"z\")\n",
    "rownames(B) <- c(\"a\",\"b\",\"c\",\"d\")\n",
    "print(B)\n",
    "subB <- B[2:4,]\n",
    "print(subB)"
   ]
  },
  {
   "cell_type": "markdown",
   "metadata": {},
   "source": [
    "---\n",
    "\n",
    "**Selecionar elementos**: selecionar por vectores lógicos o con la función `which()`"
   ]
  },
  {
   "cell_type": "code",
   "execution_count": 53,
   "metadata": {},
   "outputs": [
    {
     "name": "stdout",
     "output_type": "stream",
     "text": [
      "     [,1] [,2] [,3]\n",
      "[1,]    1    2    3\n",
      "[2,]    4    5    6\n",
      "[3,]    7    8    9\n",
      "     [,1] [,2] [,3]\n",
      "[1,]    1    0    3\n",
      "[2,]    0    5    0\n",
      "[3,]    7    0    9\n"
     ]
    }
   ],
   "source": [
    "m <- matrix(1:9, nrow = 3, ncol = 3, byrow = TRUE)\n",
    "print(m)\n",
    "m[m%%2 == 0] <- 0\n",
    "print(m)"
   ]
  },
  {
   "cell_type": "code",
   "execution_count": 54,
   "metadata": {},
   "outputs": [
    {
     "name": "stdout",
     "output_type": "stream",
     "text": [
      "     [,1] [,2] [,3]\n",
      "[1,]    1    2    3\n",
      "[2,]    4    5    6\n",
      "[3,]    7    8    9\n",
      "     row col\n",
      "[1,]   2   1\n",
      "[2,]   1   2\n",
      "[3,]   3   2\n",
      "[4,]   2   3\n",
      "     [,1] [,2] [,3]\n",
      "[1,]    1    0    3\n",
      "[2,]    0    5    0\n",
      "[3,]    7    0    9\n"
     ]
    }
   ],
   "source": [
    "m <- matrix(1:9, nrow = 3, ncol = 3, byrow = TRUE)\n",
    "print(m)\n",
    "ind <- which(m%%2 == 0, arr.ind = TRUE) # devuelve los índices de los elementos par\n",
    "print(ind)\n",
    "m[ind] <- 0 # convierte los elementos de los índices indicados a 0\n",
    "print(m)"
   ]
  },
  {
   "cell_type": "markdown",
   "metadata": {
    "button": false,
    "new_sheet": false,
    "run_control": {
     "read_only": false
    }
   },
   "source": [
    "## Arrays\n",
    "Una variable indexada (array) es una colección de datos, por ejemplo numéricos, indexada por varios ı́ndices.\n",
    "Los arrays son generalizaciones multi-dimensionales de los vectores."
   ]
  },
  {
   "cell_type": "markdown",
   "metadata": {},
   "source": [
    "Creación: la funcion `array()`"
   ]
  },
  {
   "cell_type": "code",
   "execution_count": 55,
   "metadata": {},
   "outputs": [
    {
     "name": "stdout",
     "output_type": "stream",
     "text": [
      ", , 1\n",
      "\n",
      "     [,1] [,2] [,3]\n",
      "[1,]    1    3    5\n",
      "[2,]    2    4    6\n",
      "\n",
      ", , 2\n",
      "\n",
      "     [,1] [,2] [,3]\n",
      "[1,]    7    9   11\n",
      "[2,]    8   10   12\n",
      "\n",
      ", , 3\n",
      "\n",
      "     [,1] [,2] [,3]\n",
      "[1,]   13   15   17\n",
      "[2,]   14   16   18\n",
      "\n",
      ", , 4\n",
      "\n",
      "     [,1] [,2] [,3]\n",
      "[1,]   19   21   23\n",
      "[2,]   20   22   24\n",
      "\n"
     ]
    }
   ],
   "source": [
    "a <- array(1:24, dim = c(2,3,4))\n",
    "print(a)"
   ]
  },
  {
   "cell_type": "markdown",
   "metadata": {},
   "source": [
    "Creación utilizando la funcion `dim()`"
   ]
  },
  {
   "cell_type": "code",
   "execution_count": 56,
   "metadata": {},
   "outputs": [
    {
     "name": "stdout",
     "output_type": "stream",
     "text": [
      ", , 1\n",
      "\n",
      "     [,1] [,2] [,3]\n",
      "[1,]    1    3    5\n",
      "[2,]    2    4    6\n",
      "\n",
      ", , 2\n",
      "\n",
      "     [,1] [,2] [,3]\n",
      "[1,]    7    9   11\n",
      "[2,]    8   10   12\n",
      "\n",
      ", , 3\n",
      "\n",
      "     [,1] [,2] [,3]\n",
      "[1,]   13   15   17\n",
      "[2,]   14   16   18\n",
      "\n",
      ", , 4\n",
      "\n",
      "     [,1] [,2] [,3]\n",
      "[1,]   19   21   23\n",
      "[2,]   20   22   24\n",
      "\n"
     ]
    },
    {
     "data": {
      "text/html": [
       "<ol class=list-inline>\n",
       "\t<li>2</li>\n",
       "\t<li>3</li>\n",
       "\t<li>4</li>\n",
       "</ol>\n"
      ],
      "text/latex": [
       "\\begin{enumerate*}\n",
       "\\item 2\n",
       "\\item 3\n",
       "\\item 4\n",
       "\\end{enumerate*}\n"
      ],
      "text/markdown": [
       "1. 2\n",
       "2. 3\n",
       "3. 4\n",
       "\n",
       "\n"
      ],
      "text/plain": [
       "[1] 2 3 4"
      ]
     },
     "metadata": {},
     "output_type": "display_data"
    },
    {
     "data": {
      "text/html": [
       "'array'"
      ],
      "text/latex": [
       "'array'"
      ],
      "text/markdown": [
       "'array'"
      ],
      "text/plain": [
       "[1] \"array\""
      ]
     },
     "metadata": {},
     "output_type": "display_data"
    }
   ],
   "source": [
    "x <- c(1:24)\n",
    "dim(x) <- c(2,3,4) \n",
    "print(x)\n",
    "dim(x)\n",
    "class(x)"
   ]
  },
  {
   "cell_type": "markdown",
   "metadata": {},
   "source": [
    "Selección de los elementos por índices"
   ]
  },
  {
   "cell_type": "code",
   "execution_count": 58,
   "metadata": {},
   "outputs": [
    {
     "data": {
      "text/html": [
       "1"
      ],
      "text/latex": [
       "1"
      ],
      "text/markdown": [
       "1"
      ],
      "text/plain": [
       "[1] 1"
      ]
     },
     "metadata": {},
     "output_type": "display_data"
    },
    {
     "data": {
      "text/html": [
       "<table>\n",
       "<tbody>\n",
       "\t<tr><td>1</td><td>3</td><td>5</td></tr>\n",
       "\t<tr><td>2</td><td>4</td><td>6</td></tr>\n",
       "</tbody>\n",
       "</table>\n"
      ],
      "text/latex": [
       "\\begin{tabular}{lll}\n",
       "\t 1 & 3 & 5\\\\\n",
       "\t 2 & 4 & 6\\\\\n",
       "\\end{tabular}\n"
      ],
      "text/markdown": [
       "\n",
       "| 1 | 3 | 5 | \n",
       "| 2 | 4 | 6 | \n",
       "\n",
       "\n"
      ],
      "text/plain": [
       "     [,1] [,2] [,3]\n",
       "[1,] 1    3    5   \n",
       "[2,] 2    4    6   "
      ]
     },
     "metadata": {},
     "output_type": "display_data"
    },
    {
     "data": {
      "text/html": [
       "<ol class=list-inline>\n",
       "\t<li>3</li>\n",
       "\t<li>4</li>\n",
       "</ol>\n"
      ],
      "text/latex": [
       "\\begin{enumerate*}\n",
       "\\item 3\n",
       "\\item 4\n",
       "\\end{enumerate*}\n"
      ],
      "text/markdown": [
       "1. 3\n",
       "2. 4\n",
       "\n",
       "\n"
      ],
      "text/plain": [
       "[1] 3 4"
      ]
     },
     "metadata": {},
     "output_type": "display_data"
    }
   ],
   "source": [
    "x[1,1,1]\n",
    "x[,,1]\n",
    "x[,2,1]"
   ]
  },
  {
   "cell_type": "markdown",
   "metadata": {},
   "source": [
    "### Factores\n",
    "Un factor es un vector utilizado para especificar una clasificación discreta de los elementos de otro vector de igual longitud.\n",
    "* Un factor lleva dos atributos: levels y class, a los cuales se puede acceder mediante `levels()` y `class()`"
   ]
  },
  {
   "cell_type": "markdown",
   "metadata": {},
   "source": [
    "Creación de un factor: la funcion `factor()`"
   ]
  },
  {
   "cell_type": "code",
   "execution_count": 60,
   "metadata": {},
   "outputs": [
    {
     "name": "stdout",
     "output_type": "stream",
     "text": [
      "[1] \"San\" \"Tor\" \"Ovi\" \"Ovi\" \"San\" \"Ovi\" \"San\" \"Tor\" \"Ovi\"\n",
      "[1] San Tor Ovi Ovi San Ovi San Tor Ovi\n",
      "Levels: Ovi San Tor\n"
     ]
    }
   ],
   "source": [
    "ciudades <- c(\"San\",\"Tor\",\"Ovi\",\"Ovi\",\"San\",\"Ovi\",\"San\",\"Tor\",\"Ovi\")\n",
    "print(ciudades)\n",
    "ciudadesf <- factor(ciudades)\n",
    "print(ciudadesf)"
   ]
  },
  {
   "cell_type": "code",
   "execution_count": 61,
   "metadata": {},
   "outputs": [
    {
     "data": {
      "text/html": [
       "<dl>\n",
       "\t<dt>$levels</dt>\n",
       "\t\t<dd><ol class=list-inline>\n",
       "\t<li>'Ovi'</li>\n",
       "\t<li>'San'</li>\n",
       "\t<li>'Tor'</li>\n",
       "</ol>\n",
       "</dd>\n",
       "\t<dt>$class</dt>\n",
       "\t\t<dd>'factor'</dd>\n",
       "</dl>\n"
      ],
      "text/latex": [
       "\\begin{description}\n",
       "\\item[\\$levels] \\begin{enumerate*}\n",
       "\\item 'Ovi'\n",
       "\\item 'San'\n",
       "\\item 'Tor'\n",
       "\\end{enumerate*}\n",
       "\n",
       "\\item[\\$class] 'factor'\n",
       "\\end{description}\n"
      ],
      "text/markdown": [
       "$levels\n",
       ":   1. 'Ovi'\n",
       "2. 'San'\n",
       "3. 'Tor'\n",
       "\n",
       "\n",
       "\n",
       "$class\n",
       ":   'factor'\n",
       "\n",
       "\n"
      ],
      "text/plain": [
       "$levels\n",
       "[1] \"Ovi\" \"San\" \"Tor\"\n",
       "\n",
       "$class\n",
       "[1] \"factor\"\n"
      ]
     },
     "metadata": {},
     "output_type": "display_data"
    },
    {
     "data": {
      "text/html": [
       "<ol class=list-inline>\n",
       "\t<li>'Ovi'</li>\n",
       "\t<li>'San'</li>\n",
       "\t<li>'Tor'</li>\n",
       "</ol>\n"
      ],
      "text/latex": [
       "\\begin{enumerate*}\n",
       "\\item 'Ovi'\n",
       "\\item 'San'\n",
       "\\item 'Tor'\n",
       "\\end{enumerate*}\n"
      ],
      "text/markdown": [
       "1. 'Ovi'\n",
       "2. 'San'\n",
       "3. 'Tor'\n",
       "\n",
       "\n"
      ],
      "text/plain": [
       "[1] \"Ovi\" \"San\" \"Tor\""
      ]
     },
     "metadata": {},
     "output_type": "display_data"
    }
   ],
   "source": [
    "attributes(ciudadesf)\n",
    "levels(ciudadesf)"
   ]
  },
  {
   "cell_type": "code",
   "execution_count": 62,
   "metadata": {},
   "outputs": [
    {
     "data": {
      "text/plain": [
       "ciudadesf\n",
       "Ovi San Tor \n",
       "  4   3   2 "
      ]
     },
     "metadata": {},
     "output_type": "display_data"
    },
    {
     "data": {
      "image/png": "[encoded data removed]",
      "text/plain": [
       "plot without title"
      ]
     },
     "metadata": {},
     "output_type": "display_data"
    }
   ],
   "source": [
    "table(ciudadesf)\n",
    "plot(ciudadesf)"
   ]
  },
  {
   "cell_type": "markdown",
   "metadata": {},
   "source": [
    "---\n",
    "\n",
    "__Ejercicio.__  \n",
    "Crea a un vector 'Vec' que contenga 10 números enteros entre el 1 y el 5.  \n",
    "Convierta 'Vec' a un factor 'Vecf'.  \n",
    "Acceda a los distintos niveles.  \n",
    "Haz una tabla de frequencias."
   ]
  },
  {
   "cell_type": "markdown",
   "metadata": {
    "button": false,
    "new_sheet": false,
    "run_control": {
     "read_only": false
    }
   },
   "source": [
    "### Listas\n",
    "Una lista es una colección ordenada de objetos, donde se pueden agrupar objetos de diferentes tipos (por ejemplo una combinación de vectores, matrices, factores, otras listas, data.frames, etc.).  \n",
    "La creación de una lista se hace mediante la función `list()`."
   ]
  },
  {
   "cell_type": "code",
   "execution_count": 63,
   "metadata": {},
   "outputs": [],
   "source": [
    "list1 <- list(\"Pedro\", \"Pelayo\", 3, c(4,7,9))"
   ]
  },
  {
   "cell_type": "markdown",
   "metadata": {},
   "source": [
    "Los elementos de la lista se pueden nombrar."
   ]
  },
  {
   "cell_type": "code",
   "execution_count": 64,
   "metadata": {},
   "outputs": [],
   "source": [
    "list2 <- list(nombre = \"Pedro\", apellido = \"Pelayo\", no.hijos = 3, edad.hijos = c(4,7,9))"
   ]
  },
  {
   "cell_type": "markdown",
   "metadata": {},
   "source": [
    "Selección de elementos de una lista.\n"
   ]
  },
  {
   "cell_type": "code",
   "execution_count": 65,
   "metadata": {},
   "outputs": [
    {
     "data": {
      "text/html": [
       "'Pedro'"
      ],
      "text/latex": [
       "'Pedro'"
      ],
      "text/markdown": [
       "'Pedro'"
      ],
      "text/plain": [
       "[1] \"Pedro\""
      ]
     },
     "metadata": {},
     "output_type": "display_data"
    },
    {
     "data": {
      "text/html": [
       "'Pedro'"
      ],
      "text/latex": [
       "'Pedro'"
      ],
      "text/markdown": [
       "'Pedro'"
      ],
      "text/plain": [
       "[1] \"Pedro\""
      ]
     },
     "metadata": {},
     "output_type": "display_data"
    },
    {
     "data": {
      "text/html": [
       "<ol class=list-inline>\n",
       "\t<li>4</li>\n",
       "\t<li>7</li>\n",
       "\t<li>9</li>\n",
       "</ol>\n"
      ],
      "text/latex": [
       "\\begin{enumerate*}\n",
       "\\item 4\n",
       "\\item 7\n",
       "\\item 9\n",
       "\\end{enumerate*}\n"
      ],
      "text/markdown": [
       "1. 4\n",
       "2. 7\n",
       "3. 9\n",
       "\n",
       "\n"
      ],
      "text/plain": [
       "[1] 4 7 9"
      ]
     },
     "metadata": {},
     "output_type": "display_data"
    },
    {
     "data": {
      "text/html": [
       "4"
      ],
      "text/latex": [
       "4"
      ],
      "text/markdown": [
       "4"
      ],
      "text/plain": [
       "[1] 4"
      ]
     },
     "metadata": {},
     "output_type": "display_data"
    }
   ],
   "source": [
    "list2[[1]]\n",
    "list2$nombre\n",
    "list2[[4]]\n",
    "list2[[4]][1]"
   ]
  },
  {
   "cell_type": "markdown",
   "metadata": {
    "button": false,
    "new_sheet": false,
    "run_control": {
     "read_only": false
    }
   },
   "source": [
    "### Data frames\n",
    "Un data frame se usa para guardar tablas de datos (creadas o importadas).  \n",
    "* Un data frame es una lista de vectores de longitudes iguales.\n",
    "  + lleva por defecto los atributos: `names`, `row.names`, `class`"
   ]
  },
  {
   "cell_type": "markdown",
   "metadata": {},
   "source": [
    "Creación: la función `data.frame()`"
   ]
  },
  {
   "cell_type": "code",
   "execution_count": 66,
   "metadata": {},
   "outputs": [
    {
     "data": {
      "text/html": [
       "<table>\n",
       "<thead><tr><th scope=col>edad</th><th scope=col>tiempo1</th><th scope=col>tiempo2</th><th scope=col>sexo</th></tr></thead>\n",
       "<tbody>\n",
       "\t<tr><td>22   </td><td>10.36</td><td>11.38</td><td>M    </td></tr>\n",
       "\t<tr><td>34   </td><td>14.21</td><td>15.20</td><td>H    </td></tr>\n",
       "\t<tr><td>29   </td><td>13.81</td><td>14.91</td><td>H    </td></tr>\n",
       "\t<tr><td>25   </td><td>11.89</td><td>12.90</td><td>M    </td></tr>\n",
       "\t<tr><td>30   </td><td>10.99</td><td>12.03</td><td>M    </td></tr>\n",
       "\t<tr><td>33   </td><td>12.03</td><td>12.58</td><td>H    </td></tr>\n",
       "\t<tr><td>31   </td><td>12.48</td><td>13.00</td><td>M    </td></tr>\n",
       "\t<tr><td>27   </td><td>13.37</td><td>13.01</td><td>M    </td></tr>\n",
       "\t<tr><td>25   </td><td>12.29</td><td>14.54</td><td>H    </td></tr>\n",
       "\t<tr><td>25   </td><td>11.92</td><td>15.27</td><td>H    </td></tr>\n",
       "</tbody>\n",
       "</table>\n"
      ],
      "text/latex": [
       "\\begin{tabular}{r|llll}\n",
       " edad & tiempo1 & tiempo2 & sexo\\\\\n",
       "\\hline\n",
       "\t 22    & 10.36 & 11.38 & M    \\\\\n",
       "\t 34    & 14.21 & 15.20 & H    \\\\\n",
       "\t 29    & 13.81 & 14.91 & H    \\\\\n",
       "\t 25    & 11.89 & 12.90 & M    \\\\\n",
       "\t 30    & 10.99 & 12.03 & M    \\\\\n",
       "\t 33    & 12.03 & 12.58 & H    \\\\\n",
       "\t 31    & 12.48 & 13.00 & M    \\\\\n",
       "\t 27    & 13.37 & 13.01 & M    \\\\\n",
       "\t 25    & 12.29 & 14.54 & H    \\\\\n",
       "\t 25    & 11.92 & 15.27 & H    \\\\\n",
       "\\end{tabular}\n"
      ],
      "text/markdown": [
       "\n",
       "edad | tiempo1 | tiempo2 | sexo | \n",
       "|---|---|---|---|---|---|---|---|---|---|\n",
       "| 22    | 10.36 | 11.38 | M     | \n",
       "| 34    | 14.21 | 15.20 | H     | \n",
       "| 29    | 13.81 | 14.91 | H     | \n",
       "| 25    | 11.89 | 12.90 | M     | \n",
       "| 30    | 10.99 | 12.03 | M     | \n",
       "| 33    | 12.03 | 12.58 | H     | \n",
       "| 31    | 12.48 | 13.00 | M     | \n",
       "| 27    | 13.37 | 13.01 | M     | \n",
       "| 25    | 12.29 | 14.54 | H     | \n",
       "| 25    | 11.92 | 15.27 | H     | \n",
       "\n",
       "\n"
      ],
      "text/plain": [
       "   edad tiempo1 tiempo2 sexo\n",
       "1  22   10.36   11.38   M   \n",
       "2  34   14.21   15.20   H   \n",
       "3  29   13.81   14.91   H   \n",
       "4  25   11.89   12.90   M   \n",
       "5  30   10.99   12.03   M   \n",
       "6  33   12.03   12.58   H   \n",
       "7  31   12.48   13.00   M   \n",
       "8  27   13.37   13.01   M   \n",
       "9  25   12.29   14.54   H   \n",
       "10 25   11.92   15.27   H   "
      ]
     },
     "metadata": {},
     "output_type": "display_data"
    }
   ],
   "source": [
    "edad <- c(22, 34, 29, 25, 30, 33, 31, 27, 25, 25)  # edad estudiantes\n",
    "tiempo1 <- c(10.36, 14.21, 13.81, 11.89, 10.99, 12.03, 12.48, 13.37, 12.29, 11.92)  # primera carrera de 100 m.\n",
    "tiempo2 <- c(11.38, 15.20, 14.91, 12.90, 12.03, 12.58, 13.00, 13.01, 14.54, 15.27)  # segunda carrera de 100 m.\n",
    "sexo <- factor(c(\"M\",\"H\",\"H\",\"M\",\"M\",\"H\",\"M\",\"M\",\"H\",\"H\"))\n",
    "df <- data.frame(edad,tiempo1,tiempo2,sexo)\n",
    "df"
   ]
  },
  {
   "cell_type": "code",
   "execution_count": 67,
   "metadata": {
    "scrolled": false
   },
   "outputs": [
    {
     "name": "stdout",
     "output_type": "stream",
     "text": [
      "'data.frame':\t10 obs. of  4 variables:\n",
      " $ edad   : num  22 34 29 25 30 33 31 27 25 25\n",
      " $ tiempo1: num  10.4 14.2 13.8 11.9 11 ...\n",
      " $ tiempo2: num  11.4 15.2 14.9 12.9 12 ...\n",
      " $ sexo   : Factor w/ 2 levels \"H\",\"M\": 2 1 1 2 2 1 2 2 1 1\n"
     ]
    }
   ],
   "source": [
    "# Estructura del data frame\n",
    "str(df)    "
   ]
  },
  {
   "cell_type": "markdown",
   "metadata": {},
   "source": [
    "Se puede acceder a las columnas por su nombre y hacer operaciones con ellas de manera fácil."
   ]
  },
  {
   "cell_type": "code",
   "execution_count": 68,
   "metadata": {},
   "outputs": [
    {
     "data": {
      "text/html": [
       "<table>\n",
       "<thead><tr><th scope=col>edad</th><th scope=col>tiempo1</th><th scope=col>tiempo2</th><th scope=col>sexo</th><th scope=col>totaltiempo</th></tr></thead>\n",
       "<tbody>\n",
       "\t<tr><td>22   </td><td>10.36</td><td>11.38</td><td>M    </td><td>21.74</td></tr>\n",
       "\t<tr><td>34   </td><td>14.21</td><td>15.20</td><td>H    </td><td>29.41</td></tr>\n",
       "\t<tr><td>29   </td><td>13.81</td><td>14.91</td><td>H    </td><td>28.72</td></tr>\n",
       "\t<tr><td>25   </td><td>11.89</td><td>12.90</td><td>M    </td><td>24.79</td></tr>\n",
       "\t<tr><td>30   </td><td>10.99</td><td>12.03</td><td>M    </td><td>23.02</td></tr>\n",
       "\t<tr><td>33   </td><td>12.03</td><td>12.58</td><td>H    </td><td>24.61</td></tr>\n",
       "\t<tr><td>31   </td><td>12.48</td><td>13.00</td><td>M    </td><td>25.48</td></tr>\n",
       "\t<tr><td>27   </td><td>13.37</td><td>13.01</td><td>M    </td><td>26.38</td></tr>\n",
       "\t<tr><td>25   </td><td>12.29</td><td>14.54</td><td>H    </td><td>26.83</td></tr>\n",
       "\t<tr><td>25   </td><td>11.92</td><td>15.27</td><td>H    </td><td>27.19</td></tr>\n",
       "</tbody>\n",
       "</table>\n"
      ],
      "text/latex": [
       "\\begin{tabular}{r|lllll}\n",
       " edad & tiempo1 & tiempo2 & sexo & totaltiempo\\\\\n",
       "\\hline\n",
       "\t 22    & 10.36 & 11.38 & M     & 21.74\\\\\n",
       "\t 34    & 14.21 & 15.20 & H     & 29.41\\\\\n",
       "\t 29    & 13.81 & 14.91 & H     & 28.72\\\\\n",
       "\t 25    & 11.89 & 12.90 & M     & 24.79\\\\\n",
       "\t 30    & 10.99 & 12.03 & M     & 23.02\\\\\n",
       "\t 33    & 12.03 & 12.58 & H     & 24.61\\\\\n",
       "\t 31    & 12.48 & 13.00 & M     & 25.48\\\\\n",
       "\t 27    & 13.37 & 13.01 & M     & 26.38\\\\\n",
       "\t 25    & 12.29 & 14.54 & H     & 26.83\\\\\n",
       "\t 25    & 11.92 & 15.27 & H     & 27.19\\\\\n",
       "\\end{tabular}\n"
      ],
      "text/markdown": [
       "\n",
       "edad | tiempo1 | tiempo2 | sexo | totaltiempo | \n",
       "|---|---|---|---|---|---|---|---|---|---|\n",
       "| 22    | 10.36 | 11.38 | M     | 21.74 | \n",
       "| 34    | 14.21 | 15.20 | H     | 29.41 | \n",
       "| 29    | 13.81 | 14.91 | H     | 28.72 | \n",
       "| 25    | 11.89 | 12.90 | M     | 24.79 | \n",
       "| 30    | 10.99 | 12.03 | M     | 23.02 | \n",
       "| 33    | 12.03 | 12.58 | H     | 24.61 | \n",
       "| 31    | 12.48 | 13.00 | M     | 25.48 | \n",
       "| 27    | 13.37 | 13.01 | M     | 26.38 | \n",
       "| 25    | 12.29 | 14.54 | H     | 26.83 | \n",
       "| 25    | 11.92 | 15.27 | H     | 27.19 | \n",
       "\n",
       "\n"
      ],
      "text/plain": [
       "   edad tiempo1 tiempo2 sexo totaltiempo\n",
       "1  22   10.36   11.38   M    21.74      \n",
       "2  34   14.21   15.20   H    29.41      \n",
       "3  29   13.81   14.91   H    28.72      \n",
       "4  25   11.89   12.90   M    24.79      \n",
       "5  30   10.99   12.03   M    23.02      \n",
       "6  33   12.03   12.58   H    24.61      \n",
       "7  31   12.48   13.00   M    25.48      \n",
       "8  27   13.37   13.01   M    26.38      \n",
       "9  25   12.29   14.54   H    26.83      \n",
       "10 25   11.92   15.27   H    27.19      "
      ]
     },
     "metadata": {},
     "output_type": "display_data"
    }
   ],
   "source": [
    "df$totaltiempo <- df$tiempo1 + df$tiempo2\n",
    "df"
   ]
  },
  {
   "cell_type": "markdown",
   "metadata": {},
   "source": [
    "Existen funciones en R que operan directamente sobre data frames.  \n",
    "Las funciones utlizan los nombres, reconocen factores, etc."
   ]
  },
  {
   "cell_type": "code",
   "execution_count": 69,
   "metadata": {},
   "outputs": [
    {
     "data": {
      "image/png": "[encoded data removed]",
      "text/plain": [
       "plot without title"
      ]
     },
     "metadata": {},
     "output_type": "display_data"
    }
   ],
   "source": [
    "plot(df, col = c(\"red\",\"green\")[df$sexo]) # rojo = hombre, verde = mujer"
   ]
  },
  {
   "cell_type": "markdown",
   "metadata": {},
   "source": [
    "---\n",
    "\n",
    "__Ejercicio.__  \n",
    "Añade una nueva columna con la media de los dos tiempos. \n",
    "Añade una nueva columna que indique si los estudiantes han probado el test: Media < 13.  \n",
    "Dibuja la edad vs el tiempo."
   ]
  },
  {
   "cell_type": "code",
   "execution_count": 74,
   "metadata": {},
   "outputs": [
    {
     "data": {
      "text/html": [
       "<ol class=list-inline>\n",
       "\t<li>10.87</li>\n",
       "\t<li>14.705</li>\n",
       "\t<li>14.36</li>\n",
       "\t<li>12.395</li>\n",
       "\t<li>11.51</li>\n",
       "\t<li>12.305</li>\n",
       "\t<li>12.74</li>\n",
       "\t<li>13.19</li>\n",
       "\t<li>13.415</li>\n",
       "\t<li>13.595</li>\n",
       "</ol>\n"
      ],
      "text/latex": [
       "\\begin{enumerate*}\n",
       "\\item 10.87\n",
       "\\item 14.705\n",
       "\\item 14.36\n",
       "\\item 12.395\n",
       "\\item 11.51\n",
       "\\item 12.305\n",
       "\\item 12.74\n",
       "\\item 13.19\n",
       "\\item 13.415\n",
       "\\item 13.595\n",
       "\\end{enumerate*}\n"
      ],
      "text/markdown": [
       "1. 10.87\n",
       "2. 14.705\n",
       "3. 14.36\n",
       "4. 12.395\n",
       "5. 11.51\n",
       "6. 12.305\n",
       "7. 12.74\n",
       "8. 13.19\n",
       "9. 13.415\n",
       "10. 13.595\n",
       "\n",
       "\n"
      ],
      "text/plain": [
       " [1] 10.870 14.705 14.360 12.395 11.510 12.305 12.740 13.190 13.415 13.595"
      ]
     },
     "metadata": {},
     "output_type": "display_data"
    },
    {
     "data": {
      "text/html": [
       "<ol class=list-inline>\n",
       "\t<li>TRUE</li>\n",
       "\t<li>FALSE</li>\n",
       "\t<li>FALSE</li>\n",
       "\t<li>TRUE</li>\n",
       "\t<li>TRUE</li>\n",
       "\t<li>TRUE</li>\n",
       "\t<li>TRUE</li>\n",
       "\t<li>FALSE</li>\n",
       "\t<li>FALSE</li>\n",
       "\t<li>FALSE</li>\n",
       "</ol>\n"
      ],
      "text/latex": [
       "\\begin{enumerate*}\n",
       "\\item TRUE\n",
       "\\item FALSE\n",
       "\\item FALSE\n",
       "\\item TRUE\n",
       "\\item TRUE\n",
       "\\item TRUE\n",
       "\\item TRUE\n",
       "\\item FALSE\n",
       "\\item FALSE\n",
       "\\item FALSE\n",
       "\\end{enumerate*}\n"
      ],
      "text/markdown": [
       "1. TRUE\n",
       "2. FALSE\n",
       "3. FALSE\n",
       "4. TRUE\n",
       "5. TRUE\n",
       "6. TRUE\n",
       "7. TRUE\n",
       "8. FALSE\n",
       "9. FALSE\n",
       "10. FALSE\n",
       "\n",
       "\n"
      ],
      "text/plain": [
       " [1]  TRUE FALSE FALSE  TRUE  TRUE  TRUE  TRUE FALSE FALSE FALSE"
      ]
     },
     "metadata": {},
     "output_type": "display_data"
    },
    {
     "data": {
      "image/png": "[encoded data removed]",
      "text/plain": [
       "plot without title"
      ]
     },
     "metadata": {},
     "output_type": "display_data"
    }
   ],
   "source": [
    "# Solución\n",
    "df$media <- (df$tiempo1 + df$tiempo2)/2\n",
    "df$test <- df$media < 13\n",
    "df$media\n",
    "df$test\n",
    "plot(df$edad,df$tiempo1, xlab = \"edad\", ylab = \"tiempo1\")"
   ]
  },
  {
   "cell_type": "markdown",
   "metadata": {},
   "source": [
    "---\n",
    "\n",
    "Las bases de datos o datasets (por ejemplo en formato excel o csv) se importan en R como data frames para análisis posteriores. \n",
    "La librería `base` de R proporciona una serie de datasets de ejemplo (e.g. swiss)"
   ]
  },
  {
   "cell_type": "code",
   "execution_count": 75,
   "metadata": {},
   "outputs": [
    {
     "name": "stdout",
     "output_type": "stream",
     "text": [
      "'data.frame':\t47 obs. of  6 variables:\n",
      " $ Fertility       : num  80.2 83.1 92.5 85.8 76.9 76.1 83.8 92.4 82.4 82.9 ...\n",
      " $ Agriculture     : num  17 45.1 39.7 36.5 43.5 35.3 70.2 67.8 53.3 45.2 ...\n",
      " $ Examination     : int  15 6 5 12 17 9 16 14 12 16 ...\n",
      " $ Education       : int  12 9 5 7 15 7 7 8 7 13 ...\n",
      " $ Catholic        : num  9.96 84.84 93.4 33.77 5.16 ...\n",
      " $ Infant.Mortality: num  22.2 22.2 20.2 20.3 20.6 26.6 23.6 24.9 21 24.4 ...\n"
     ]
    }
   ],
   "source": [
    "data(swiss)\n",
    "?swiss\n",
    "str(swiss)"
   ]
  },
  {
   "cell_type": "markdown",
   "metadata": {},
   "source": [
    "---\n",
    "\n",
    "__Ejercicio.__  \n",
    "Utiliza este data frame (`swiss`) para aplicar las diferentes operaciones que hemos visto. Por ejemplo:\n",
    "* Busca en la ayuda del data frame (`swiss`) el ejemplo en que se hace una regresión lineal. Copia ese ejemplo.\n",
    "* Trata de explicar la relacion existente entre la \"Education\" y \"Examination\" con un plot o una regresión lineal entre las dos variables.\n",
    "* Convierte la variable `catholic` del data frame `swiss` en una variable categórica (por ejemplo de tipo lógico con la condicion > 55 %). Posteriormente conviértela a factor. Haz una tabla de frequencias: ¿Como se ha dividido el país?\n",
    "* Haz un nuevo data.frame `swiss2` que sólo contenga las columnas \"Fertility\", \"Agriculture\" e \"Infant.Mortality\". \n",
    "* Dibuja un scatterplot de `swiss2`\n"
   ]
  },
  {
   "cell_type": "markdown",
   "metadata": {
    "button": false,
    "new_sheet": false,
    "run_control": {
     "read_only": false
    }
   },
   "source": [
    "## Funciones en R\n",
    "* Las funciones permiten realizar operaciones sobre objetos de una manera estructurada. La forma básica de definir una función (por ejemplo, llamada *function.name*) en R es la siguiente:\n",
    "\n",
    "```{r}\n",
    "function.name <- function(arg1, arg2, ..., argN) {\n",
    "# statements\n",
    "}\n",
    "```\n",
    " \n",
    "*arg1, ..., argN* son las variables y/o argumentos de entrada que necesita la función\n",
    "    \n",
    "    \n",
    "* La forma de llamar a esta función sería tal que así:\n",
    "\n",
    "```{r}\n",
    "res <- function.name(arg1, arg2, ..., argN)\n",
    "```\n",
    "     \n",
    "*res* es la variable de salida que devuelve la función como resultado de las operaciones hechas sobre las variables de entrada."
   ]
  },
  {
   "cell_type": "code",
   "execution_count": null,
   "metadata": {},
   "outputs": [],
   "source": [
    "# Es posible definir una función sin ninguna variable de entrada (aunque no tiene mucho sentido)\n",
    "# Función \"sin función\"\n",
    "hello <- function() {\n",
    " print(\"Hello world\")\n",
    "}\n",
    "hello()"
   ]
  },
  {
   "cell_type": "code",
   "execution_count": null,
   "metadata": {},
   "outputs": [],
   "source": [
    "# Ejemplo de función con dos variables de entrada\n",
    "# Calcula la suma de dos números\n",
    "fun.sum <- function(x, y) {\n",
    " return(x + y)\n",
    "}\n",
    "fun.sum(5, 7)"
   ]
  },
  {
   "cell_type": "code",
   "execution_count": null,
   "metadata": {},
   "outputs": [],
   "source": [
    "# Cálculo del máximo y el mínimo de un vector\n",
    "max.min <- function(x) {\n",
    " return(c(min(x), max(x)))\n",
    "}\n",
    "vec <- 1:100\n",
    "max.min(vec)"
   ]
  },
  {
   "cell_type": "markdown",
   "metadata": {},
   "source": [
    "### Ejercicio\n",
    "Construye una función llamada *IMC* que calcule el *Indice de Masa Corporal* a partir del peso (en kg) y la altura (en m). \n",
    "IMC = peso/altura^2."
   ]
  },
  {
   "cell_type": "code",
   "execution_count": 76,
   "metadata": {},
   "outputs": [
    {
     "data": {
      "text/html": [
       "<ol class=list-inline>\n",
       "\t<li>21.484375</li>\n",
       "\t<li>21.0498179023689</li>\n",
       "\t<li>26.3328887520947</li>\n",
       "\t<li>26.7755102040816</li>\n",
       "\t<li>24.4351866688031</li>\n",
       "\t<li>25.3515413737155</li>\n",
       "\t<li>28.0821708739049</li>\n",
       "</ol>\n"
      ],
      "text/latex": [
       "\\begin{enumerate*}\n",
       "\\item 21.484375\n",
       "\\item 21.0498179023689\n",
       "\\item 26.3328887520947\n",
       "\\item 26.7755102040816\n",
       "\\item 24.4351866688031\n",
       "\\item 25.3515413737155\n",
       "\\item 28.0821708739049\n",
       "\\end{enumerate*}\n"
      ],
      "text/markdown": [
       "1. 21.484375\n",
       "2. 21.0498179023689\n",
       "3. 26.3328887520947\n",
       "4. 26.7755102040816\n",
       "5. 24.4351866688031\n",
       "6. 25.3515413737155\n",
       "7. 28.0821708739049\n",
       "\n",
       "\n"
      ],
      "text/plain": [
       "[1] 21.48437 21.04982 26.33289 26.77551 24.43519 25.35154 28.08217"
      ]
     },
     "metadata": {},
     "output_type": "display_data"
    }
   ],
   "source": [
    "peso = c(55, 63, 77, 82, 61, 75, 92)\n",
    "altura = c(1.60, 1.73, 1.71, 1.75, 1.58, 1.72, 1.81)\n",
    "# crea la función IMC"
   ]
  },
  {
   "cell_type": "markdown",
   "metadata": {},
   "source": [
    "* Hay variables de entrada que son obligatorias y otras que son opcionales. Por ejemplo, la función *log* tiene una variable de entrada obligatoria (el número del cual se desea calcular el logaritmo) y otra opcional (si no se especifica lo contrario, se calcular el logaritmo natural, es decir, en base *e*)."
   ]
  },
  {
   "cell_type": "code",
   "execution_count": null,
   "metadata": {},
   "outputs": [],
   "source": [
    "log(exp(1))\n",
    "log(exp(1), base = 2)"
   ]
  },
  {
   "cell_type": "code",
   "execution_count": 77,
   "metadata": {},
   "outputs": [
    {
     "data": {
      "text/html": [
       "<ol class=list-inline>\n",
       "\t<li>10</li>\n",
       "\t<li>2</li>\n",
       "</ol>\n"
      ],
      "text/latex": [
       "\\begin{enumerate*}\n",
       "\\item 10\n",
       "\\item 2\n",
       "\\end{enumerate*}\n"
      ],
      "text/markdown": [
       "1. 10\n",
       "2. 2\n",
       "\n",
       "\n"
      ],
      "text/plain": [
       "[1] 10  2"
      ]
     },
     "metadata": {},
     "output_type": "display_data"
    },
    {
     "data": {
      "text/html": [
       "100"
      ],
      "text/latex": [
       "100"
      ],
      "text/markdown": [
       "100"
      ],
      "text/plain": [
       "[1] 100"
      ]
     },
     "metadata": {},
     "output_type": "display_data"
    },
    {
     "data": {
      "text/html": [
       "5"
      ],
      "text/latex": [
       "5"
      ],
      "text/markdown": [
       "5"
      ],
      "text/plain": [
       "[1] 5"
      ]
     },
     "metadata": {},
     "output_type": "display_data"
    }
   ],
   "source": [
    "# Esta función, por ejemplo, admite un argumento de entrada opcional (\"operator\"), que puede tomar los valores \"power\" o \"divide\".\n",
    "# Función para realizar operaciones (elevar al cuadrado o dividir) sobre dos números\n",
    "operate.2num = function(x, y, operator = NULL) {\n",
    "    if (is.null(operator)) {\n",
    "        return(c(x, y))\n",
    "    } else if (operator == \"power\") {\n",
    "        return(x^y)\n",
    "    } else if (operator == \"divide\") {\n",
    "        return(x/y)\n",
    "    }\n",
    "}\n",
    "operate.2num(10, 2)\n",
    "operate.2num(10, 2, \"power\")\n",
    "operate.2num(10, 2, \"divide\")"
   ]
  },
  {
   "cell_type": "markdown",
   "metadata": {},
   "source": [
    "### Ejercicio\n",
    "Modifica la función anterior (*operate.2num*) para que:\n",
    "1. permita también calcular el logaritmo de \"x\" en base \"y\"\n",
    "2. en el caso de la operación \"power\" sea el mayor de los dos números el que se eleve al menor"
   ]
  },
  {
   "cell_type": "code",
   "execution_count": null,
   "metadata": {},
   "outputs": [],
   "source": [
    "# Modificación de la función \"operate.2num\""
   ]
  },
  {
   "cell_type": "markdown",
   "metadata": {},
   "source": [
    "* La ayuda de una función en R se puede obtener mediante los comandos `?` y `help()`, y se estructura en varias secciones:\n",
    "   +  **Description**: breve descripción de lo que hace la función.  \n",
    "   +  **Usage**: sintaxis de la función.\n",
    "   +  **Arguments**: explicación de los argumentos que recibe la función.\n",
    "   +  **Value**: explicación del objeto que devuelve la función. El objeto devuelto puede ser un valor, una lista, una matriz, …\n",
    "   +  **References**: bibliografía relacionada con los métodos implementados en la función.\n",
    "   +  **See Also**: funciones relacionadas.\n",
    "   +  **Examples**: esta es sin duda la sección más importante ya que muestra ejemplos efectivos del uso de la función."
   ]
  },
  {
   "cell_type": "code",
   "execution_count": null,
   "metadata": {},
   "outputs": [],
   "source": [
    "?mean()\n",
    "help(mean)"
   ]
  },
  {
   "cell_type": "markdown",
   "metadata": {},
   "source": [
    "* Si queremos utilizar una función que no recordamos (o no conocemos), pero de la que sabemos (o sospechamos) que su nombre contiene el término *mean*, podemos utilizar *apropos(\"mean\")*, que nos devuelve un listado de funciones que contienen dicho témino en su nombre."
   ]
  },
  {
   "cell_type": "code",
   "execution_count": 78,
   "metadata": {},
   "outputs": [
    {
     "data": {
      "text/html": [
       "<ol class=list-inline>\n",
       "\t<li>'colMeans'</li>\n",
       "\t<li>'.colMeans'</li>\n",
       "\t<li>'kmeans'</li>\n",
       "\t<li>'mean'</li>\n",
       "\t<li>'mean.Date'</li>\n",
       "\t<li>'mean.default'</li>\n",
       "\t<li>'mean.difftime'</li>\n",
       "\t<li>'mean.POSIXct'</li>\n",
       "\t<li>'mean.POSIXlt'</li>\n",
       "\t<li>'rowMeans'</li>\n",
       "\t<li>'.rowMeans'</li>\n",
       "\t<li>'weighted.mean'</li>\n",
       "</ol>\n"
      ],
      "text/latex": [
       "\\begin{enumerate*}\n",
       "\\item 'colMeans'\n",
       "\\item '.colMeans'\n",
       "\\item 'kmeans'\n",
       "\\item 'mean'\n",
       "\\item 'mean.Date'\n",
       "\\item 'mean.default'\n",
       "\\item 'mean.difftime'\n",
       "\\item 'mean.POSIXct'\n",
       "\\item 'mean.POSIXlt'\n",
       "\\item 'rowMeans'\n",
       "\\item '.rowMeans'\n",
       "\\item 'weighted.mean'\n",
       "\\end{enumerate*}\n"
      ],
      "text/markdown": [
       "1. 'colMeans'\n",
       "2. '.colMeans'\n",
       "3. 'kmeans'\n",
       "4. 'mean'\n",
       "5. 'mean.Date'\n",
       "6. 'mean.default'\n",
       "7. 'mean.difftime'\n",
       "8. 'mean.POSIXct'\n",
       "9. 'mean.POSIXlt'\n",
       "10. 'rowMeans'\n",
       "11. '.rowMeans'\n",
       "12. 'weighted.mean'\n",
       "\n",
       "\n"
      ],
      "text/plain": [
       " [1] \"colMeans\"      \".colMeans\"     \"kmeans\"        \"mean\"         \n",
       " [5] \"mean.Date\"     \"mean.default\"  \"mean.difftime\" \"mean.POSIXct\" \n",
       " [9] \"mean.POSIXlt\"  \"rowMeans\"      \".rowMeans\"     \"weighted.mean\""
      ]
     },
     "metadata": {},
     "output_type": "display_data"
    }
   ],
   "source": [
    "apropos(\"mean\")"
   ]
  },
  {
   "cell_type": "markdown",
   "metadata": {
    "button": false,
    "new_sheet": false,
    "run_control": {
     "read_only": false
    }
   },
   "source": [
    "## Librerías en R\n",
    "\n",
    "* La instalación básica de R viene equipada con múltiples funciones para análisis estadístico, importación de datos, gráficos, etc. Sin embargo, puede ocurrir que necesitemos llevar a cabo un análisis muy específico para el cual no encontremos las funciones adecuadas. En ese caso, la gran ventaja de R radica en que, en la práctica, casi siempre será posible encontrar un paquete (ó librería) que ya haya sido diseñado para el fin que perseguimos.\n",
    "* Un paquete es una colección de funciones y/o datos con un propósito concreto (normalmente bastante específico) que se almacenan en una carpeta conforme a una estructura bien definida, fácilmente entendible por R.\n",
    "* En la web de R se puede consultar la lista de paquetes disponibles (actualmente, más de 13000): https://cran.r-project.org/web/packages/. En la sección Task Views (https://cran.r-project.org/web/views/) se puede consultar una lista de paquetes ordenada según áreas de aplicación.\n",
    "* El comando *library()* abre una ventana con información sobre los paquetes instalados en R. "
   ]
  },
  {
   "cell_type": "code",
   "execution_count": 79,
   "metadata": {},
   "outputs": [
    {
     "name": "stderr",
     "output_type": "stream",
     "text": [
      "Warning message in library():\n",
      "“libraries ‘/usr/local/lib/R/site-library’, ‘/usr/lib/R/site-library’ contain no packages”"
     ]
    },
    {
     "data": {},
     "metadata": {},
     "output_type": "display_data"
    }
   ],
   "source": [
    "library()"
   ]
  },
  {
   "cell_type": "markdown",
   "metadata": {},
   "source": [
    "* Podemos ver un listado completo de los paquetes actualmente cargados en memoria con el comando `search()`. "
   ]
  },
  {
   "cell_type": "code",
   "execution_count": 80,
   "metadata": {},
   "outputs": [
    {
     "data": {
      "text/html": [
       "<ol class=list-inline>\n",
       "\t<li>'.GlobalEnv'</li>\n",
       "\t<li>'jupyter:irkernel'</li>\n",
       "\t<li>'package:stats'</li>\n",
       "\t<li>'package:graphics'</li>\n",
       "\t<li>'package:grDevices'</li>\n",
       "\t<li>'package:utils'</li>\n",
       "\t<li>'package:datasets'</li>\n",
       "\t<li>'package:methods'</li>\n",
       "\t<li>'Autoloads'</li>\n",
       "\t<li>'package:base'</li>\n",
       "</ol>\n"
      ],
      "text/latex": [
       "\\begin{enumerate*}\n",
       "\\item '.GlobalEnv'\n",
       "\\item 'jupyter:irkernel'\n",
       "\\item 'package:stats'\n",
       "\\item 'package:graphics'\n",
       "\\item 'package:grDevices'\n",
       "\\item 'package:utils'\n",
       "\\item 'package:datasets'\n",
       "\\item 'package:methods'\n",
       "\\item 'Autoloads'\n",
       "\\item 'package:base'\n",
       "\\end{enumerate*}\n"
      ],
      "text/markdown": [
       "1. '.GlobalEnv'\n",
       "2. 'jupyter:irkernel'\n",
       "3. 'package:stats'\n",
       "4. 'package:graphics'\n",
       "5. 'package:grDevices'\n",
       "6. 'package:utils'\n",
       "7. 'package:datasets'\n",
       "8. 'package:methods'\n",
       "9. 'Autoloads'\n",
       "10. 'package:base'\n",
       "\n",
       "\n"
      ],
      "text/plain": [
       " [1] \".GlobalEnv\"        \"jupyter:irkernel\"  \"package:stats\"    \n",
       " [4] \"package:graphics\"  \"package:grDevices\" \"package:utils\"    \n",
       " [7] \"package:datasets\"  \"package:methods\"   \"Autoloads\"        \n",
       "[10] \"package:base\"     "
      ]
     },
     "metadata": {},
     "output_type": "display_data"
    }
   ],
   "source": [
    "search()"
   ]
  },
  {
   "cell_type": "markdown",
   "metadata": {},
   "source": [
    "* Para poder usar un paquete es necesario instalarlo y después cargarlo en memoria (comando `library`).\n",
    "  \n",
    " + Instalación de librerías:\n",
    "     + CRAN \n",
    "     + GitHub (hay que instalar antes el paquete \"devtools\")\n",
    "     + local"
   ]
  },
  {
   "cell_type": "code",
   "execution_count": null,
   "metadata": {},
   "outputs": [],
   "source": [
    "## installing from CRAN ##\n",
    "# R.matlab package (https://cran.r-project.org/web/packages/R.matlab/index.html). \n",
    "# R.matlab provides methods for controlling MATLAB via R and sending and retrieving data between R and MATLAB.\n",
    "install.packages(\"R.matlab\")\n",
    "\n",
    "# La primera vez que se instale un paquete, R  preguntará el país desde dónde se desea descargar\n",
    "# (es aconsejable hacerlo desde un mirror español). \n",
    "\n",
    "# Una vez instalado no se necesitará instalarlo más, pero hay que cargarlo en memoria para poder usarlo\n",
    "library(R.matlab)\n",
    "existsFunction(\"writeMat\")"
   ]
  },
  {
   "cell_type": "code",
   "execution_count": null,
   "metadata": {},
   "outputs": [],
   "source": [
    "# https://cran.r-project.org/web/packages/devtools/index.html\n",
    "install.packages(\"devtools\")\n",
    "library(devtools)\n",
    "\n",
    "## installing from GitHub ##\n",
    "install_github(\"HenrikBengtsson/R.matlab@develop\")\n",
    "library(R.matlab)"
   ]
  },
  {
   "cell_type": "code",
   "execution_count": null,
   "metadata": {},
   "outputs": [],
   "source": [
    "## instalación local de un paquete comprimido\n",
    "install.packages(\"./pathLocal/paquete.tar.gz\", repos = NULL, type = \"source\")\n",
    "library(paquete)"
   ]
  },
  {
   "cell_type": "markdown",
   "metadata": {},
   "source": [
    "* En ocasiones se hace necesario eliminar de la memoria algún paquete que hemos cargado previamente (por ejemplo, porque deseamos cargar una versión que acabamos de actualizar). Para ello basta con ejecutar el comando *detach*"
   ]
  },
  {
   "cell_type": "code",
   "execution_count": null,
   "metadata": {},
   "outputs": [],
   "source": [
    "detach(\"package:R.matlab\")\n",
    "# comprueba si existe la función especificada\n",
    "existsFunction(\"writeMat\") "
   ]
  },
  {
   "cell_type": "markdown",
   "metadata": {},
   "source": [
    "* Si queremos eliminar físicamente del disco duro un paquete que tengamos instalado, basta ejecutar la función *remove.packages*"
   ]
  },
  {
   "cell_type": "code",
   "execution_count": null,
   "metadata": {},
   "outputs": [],
   "source": [
    "remove.packages(\"R.matlab\")"
   ]
  },
  {
   "cell_type": "markdown",
   "metadata": {},
   "source": [
    "* Para ver un listado de todos los paquetes que tenemos en nuestro ordenador que pueden ser actualizados"
   ]
  },
  {
   "cell_type": "code",
   "execution_count": null,
   "metadata": {},
   "outputs": [],
   "source": [
    "old.packages()"
   ]
  },
  {
   "cell_type": "markdown",
   "metadata": {},
   "source": [
    "* Para actualizar dichos paquetes"
   ]
  },
  {
   "cell_type": "code",
   "execution_count": null,
   "metadata": {},
   "outputs": [],
   "source": [
    "update.packages()"
   ]
  },
  {
   "cell_type": "markdown",
   "metadata": {},
   "source": [
    "* Finalmente, podemos querer cargar una función que hayamos creado nosotros mismos o nos hayamos descargado en local, pero que no sea una librería. Para ello tenemos que usar el comando `source`. El problema de este comando es que hay que volver a aplicarlo siempre que hagamos un cambio en la funcion que queramos utilizar."
   ]
  },
  {
   "cell_type": "code",
   "execution_count": 90,
   "metadata": {},
   "outputs": [
    {
     "name": "stdout",
     "output_type": "stream",
     "text": [
      "[1] \"Mi nombre es Rodrigo\"\n"
     ]
    }
   ],
   "source": [
    "source(\"/home/jovyan/R/show.name.R\")\n",
    "show.name(\"Rodrigo\")"
   ]
  },
  {
   "cell_type": "markdown",
   "metadata": {
    "button": false,
    "new_sheet": false,
    "run_control": {
     "read_only": false
    }
   },
   "source": [
    "## RStudio\n",
    "* RStudio es un IDE (*Integrated Development Environment*, o Entorno de Desarrollo Integrado) de código abierto que permite interactuar con R de manera muy simple. Por decirlo de una manera gráfica, R será nuestro motor para el análisis de datos y Rstudio la carrocería que nos va a permitir manejar cómodamente toda la potencia del motor.\n",
    "* Entre otras ventajas, Rstudio utiliza diferentes colores para las distintas clases de objetos de R, permite autocompletar código (tecla tabulador), incluye un sistema de menús de ayuda muy completo, cuenta con un potente sistema para la gestión, descarga y construcción de librerías, dispone de un depurador de código que detecta posibles errores de sintaxis, es multiplataforma (existen versiones para Windows, Linux y Mac)...\n",
    "* Instalación: \n",
    "http://www.rstudio.com/\n",
    "* Por defecto, RStudio tiene cuatro paneles principales (la interfaz puede modificarse en *Tools → Options → PaneLayout*). \n",
    "   + El panel inferior izquierdo es una consola de R. En ella se puede escribir y ejecutar código. \n",
    "   + El panel superior izquierdo es un editor de código. Los ficheros que se abran y se editen irán apareciendo en distintas pestañas.\n",
    "   + Los paneles de la derecha son menos importantes. \n",
    "      + El superior contiene un listado de las variables en el entorno y un histórico de comandos ejecutados. \n",
    "      + De entre todas las pestañas que aparecen en el inferior, las más usadas generalmente son:\n",
    "        + Files: da acceso al sistema de ficheros del disco duro.\n",
    "        + Plots: aloja los gráficos que cree R.\n",
    "        + Help: muestra la página de ayuda de las funciones cuando la solicite el usuario.             \n",
    "* Permite la creación de proyectos e integra funcionalidades git.\n"
   ]
  }
 ],
 "metadata": {
  "kernelspec": {
   "display_name": "R",
   "language": "R",
   "name": "ir"
  },
  "language_info": {
   "codemirror_mode": "r",
   "file_extension": ".r",
   "mimetype": "text/x-r-source",
   "name": "R",
   "pygments_lexer": "r",
   "version": "3.4.4"
  }
 },
 "nbformat": 4,
 "nbformat_minor": 2
}
