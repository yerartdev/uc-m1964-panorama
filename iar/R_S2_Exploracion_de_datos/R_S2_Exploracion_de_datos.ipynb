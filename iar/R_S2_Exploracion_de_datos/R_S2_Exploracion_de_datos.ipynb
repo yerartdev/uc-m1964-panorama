{
 "cells": [
  {
   "cell_type": "markdown",
   "metadata": {},
   "source": [
    "# HERRAMIENTAS BÁSICAS PARA IMPORTAR, TRANSFORMAR Y VISUALIZAR DATOS"
   ]
  },
  {
   "cell_type": "markdown",
   "metadata": {},
   "source": [
    "Maialen Iturbide \n",
    "\n",
    "miturbide@ifca.unican.es"
   ]
  },
  {
   "cell_type": "markdown",
   "metadata": {},
   "source": [
    "<img src=\"figs/data-science-explore.png\" caption=\"fuente: Wickham and Grolemund, 2018\" />"
   ]
  },
  {
   "cell_type": "markdown",
   "metadata": {},
   "source": [
    "![manualRdatascience](figs/manual_R_for_Data_Science.jpg)\n",
    "\n",
    "http://r4ds.had.co.nz/index.html\n"
   ]
  },
  {
   "cell_type": "markdown",
   "metadata": {},
   "source": [
    "***\n",
    "## CONTENIDOS\n",
    "### Visualizar \n",
    "### Transformar \n",
    "### Importar/Exportar\n",
    "### Ordenar\n",
    "### Caso de estudio\n",
    "***"
   ]
  },
  {
   "cell_type": "markdown",
   "metadata": {},
   "source": [
    "## ANTES DE EMPEZAR...UNA INTRODUCCIÓN A **KAGGLE**\n",
    "\n",
    "\n",
    "Kaggle es una plataforma Web que reune a la mayor comunidad de data sciencetists del mundo: https://www.kaggle.com/\n",
    "\n",
    "Kaggle ofrece:\n",
    " \n",
    " * **Competiciones de Machine learning:** Este fue el primer producto de Kaggle. Las Compañías publican problemas y los participantes compiten para construir el mejor algoritmo que dé solución al problema planteado.\n",
    " * **Kernels:** Son notebooks y scripts de python o de R que la comunidad comparte.\n",
    " * **Datasets públicos:** Los miembros de la comunidad comparten conjuntos de datos.\n",
    " * **Kaggle Learn:** ofrece cursos para aprender o mejorar en data science (e.g. python, machine learning, visualización de datos...)\n",
    "\n",
    "![](figs/kaggle_learn.png)\n",
    "\n",
    "\n",
    "\n"
   ]
  },
  {
   "cell_type": "markdown",
   "metadata": {},
   "source": [
    "***"
   ]
  },
  {
   "cell_type": "markdown",
   "metadata": {},
   "source": [
    "## **VISUALIZAR DATOS**\n",
    "### (Dataset de ejemplo: *Iris de Fisher* y *mpg*)\n",
    "\n",
    "La **visualización** se trata de crear **\"plots\"** o gráficos informativos que ayuden a **entender los datos**.\n",
    "\n",
    "En esta sección utilizaremos el **dataset de Iris de Fisher** (también llamado dataset de Iris de Anderson) (https://en.wikipedia.org/wiki/Iris_flower_data_set).\n",
    "\n",
    "<img src=\"figs/iris_setosa.jpg\" width= \"250\"/> <img src=\"figs/iris_virginica.jpg\" width= \"220\"/> <img src=\"figs/iris_versicolor.jpg\" width= \"240\"/> \n",
    "\n",
    "El conjunto de datos contiene 50 muestras de cada una de tres especies de Iris (**Iris setosa**, **Iris virginica** e **Iris versicolor**). Se midieron cuatro rasgos de cada muestra: **El largo y ancho de los sépalos y el largo y ancho de los pétalos**. Basado en la combinación de estos cuatro rasgos, Fisher desarrolló un modelo discriminante lineal para distinguir entre una especie y otra.\n",
    "\n",
    "Este dataset se encuentra en formato **csv** en kaggle (https://www.kaggle.com/uciml/iris).\n",
    "\n",
    "Lo podemos leer (una vez descargado) en nuestra sesión de R con la función `read.csv` o `read.table`:\n",
    "\n"
   ]
  },
  {
   "cell_type": "code",
   "execution_count": null,
   "metadata": {},
   "outputs": [],
   "source": [
    "iris.kagg <- read.table(file = \"data/Iris.csv\", sep = \",\", header = TRUE)\n",
    "str(iris.kagg)"
   ]
  },
  {
   "cell_type": "markdown",
   "metadata": {},
   "source": [
    "\n",
    "Este dataset también se encuentra disponible en el paquete `datasets` de R:\n"
   ]
  },
  {
   "cell_type": "code",
   "execution_count": null,
   "metadata": {},
   "outputs": [],
   "source": [
    "library(help = \"datasets\")"
   ]
  },
  {
   "cell_type": "code",
   "execution_count": null,
   "metadata": {},
   "outputs": [],
   "source": [
    "?iris"
   ]
  },
  {
   "cell_type": "markdown",
   "metadata": {},
   "source": [
    "Podemos ver la estructura de `iris` con la función `str()`:"
   ]
  },
  {
   "cell_type": "code",
   "execution_count": null,
   "metadata": {},
   "outputs": [],
   "source": [
    "str(iris)"
   ]
  },
  {
   "cell_type": "markdown",
   "metadata": {},
   "source": [
    "Fijándonos en la estructura de ambos data.frames (objetos iris.kagg e iris), vemos que la versión de _iris_ de kaggle tiene una variable más (ID)."
   ]
  },
  {
   "cell_type": "markdown",
   "metadata": {},
   "source": [
    "La función de visualización básica de R es `plot` (`?plot` para acceder a la ayuda). "
   ]
  },
  {
   "cell_type": "code",
   "execution_count": null,
   "metadata": {},
   "outputs": [],
   "source": [
    "plot(iris$Sepal.Length, iris$Sepal.Width, \n",
    "main=\"Edgar Anderson's Iris Data\")"
   ]
  },
  {
   "cell_type": "markdown",
   "metadata": {},
   "source": [
    "Visualicemos por ejemplo esta misma gráfica pero **diferenciando con colores las diferentes especies de Iris**. Para ello realizaremos una pequeña transformación de los datos en los pasos que se muestran a continuación."
   ]
  },
  {
   "cell_type": "markdown",
   "metadata": {},
   "source": [
    "La función `levels()` nos devuelve las especies que recoge el conjunto de datos:"
   ]
  },
  {
   "cell_type": "code",
   "execution_count": null,
   "metadata": {},
   "outputs": [],
   "source": [
    "levels(iris$Species)"
   ]
  },
  {
   "cell_type": "code",
   "execution_count": null,
   "metadata": {},
   "outputs": [],
   "source": [
    "# Extraigo los datos que corresponden únicamente a la especie de Iris setosa\n",
    "ind <- which(iris$Species == \"setosa\")\n",
    "str(iris[ind, ])\n",
    "\n",
    "# La función `subset` nos permite hacer lo mismo en un solo paso\n",
    "setosa <- subset(iris, Species == \"setosa\")\n",
    "str(setosa)"
   ]
  },
  {
   "cell_type": "markdown",
   "metadata": {},
   "source": [
    "Si aplicamos `subset()` para cada una de las especies, mediante las funciones `plot` y `points` podemos diferenciarlas en un mismo gráfico:"
   ]
  },
  {
   "cell_type": "code",
   "execution_count": null,
   "metadata": {},
   "outputs": [],
   "source": [
    "versicolor <- subset(iris, Species == \"versicolor\")\n",
    "virginica <- subset(iris, Species == \"virginica\")"
   ]
  },
  {
   "cell_type": "code",
   "execution_count": null,
   "metadata": {},
   "outputs": [],
   "source": [
    "plot(setosa$Sepal.Length, setosa$Sepal.Width, xlim = c(4, 8), ylim = c(2, 4.5))\n",
    "points(virginica$Sepal.Length, virginica$Sepal.Width, col = \"blue\")\n",
    "points(versicolor$Sepal.Length, versicolor$Sepal.Width, col = \"red\")"
   ]
  },
  {
   "cell_type": "markdown",
   "metadata": {},
   "source": [
    "Para este caso concreto, la transformación de arriba no es necesaria, ya que podemos pasarle al argumento `col` la variable `Species`:"
   ]
  },
  {
   "cell_type": "code",
   "execution_count": null,
   "metadata": {},
   "outputs": [],
   "source": [
    "plot(iris$Sepal.Length, iris$Sepal.Width, col = iris$Species)"
   ]
  },
  {
   "cell_type": "markdown",
   "metadata": {},
   "source": [
    "Existen librerías más potentes para la visualización de datos, por ejemplo, `ggplot` o **`lattice`**:"
   ]
  },
  {
   "cell_type": "code",
   "execution_count": null,
   "metadata": {},
   "outputs": [],
   "source": [
    "install.packages(\"lattice\")"
   ]
  },
  {
   "cell_type": "code",
   "execution_count": null,
   "metadata": {},
   "outputs": [],
   "source": [
    "library(lattice)\n",
    "xyplot(Sepal.Width~Sepal.Length, data = iris)"
   ]
  },
  {
   "cell_type": "code",
   "execution_count": null,
   "metadata": {},
   "outputs": [],
   "source": [
    "xyplot(Sepal.Width~Sepal.Length|Species, data = iris)"
   ]
  },
  {
   "cell_type": "code",
   "execution_count": null,
   "metadata": {},
   "outputs": [],
   "source": [
    "xyplot(Sepal.Width~Sepal.Length, group = Species, data = iris, auto.key = TRUE)"
   ]
  },
  {
   "cell_type": "code",
   "execution_count": null,
   "metadata": {},
   "outputs": [],
   "source": [
    "xyplot(Petal.Width~Petal.Length, group = Species, data = iris, \n",
    "       auto.key = TRUE, \n",
    "       col = c(\"orange\", \"blue\", \"green\"))"
   ]
  },
  {
   "cell_type": "code",
   "execution_count": null,
   "metadata": {},
   "outputs": [],
   "source": [
    "cloud(Petal.Width ~ Petal.Length * Sepal.Width, group = Species, data = iris, auto.key = TRUE)"
   ]
  },
  {
   "cell_type": "code",
   "execution_count": null,
   "metadata": {},
   "outputs": [],
   "source": [
    "splom(~iris[1:4], groups = Species, data = iris)"
   ]
  },
  {
   "cell_type": "code",
   "execution_count": null,
   "metadata": {},
   "outputs": [],
   "source": [
    "bwplot(Petal.Length~Species, data = iris)"
   ]
  },
  {
   "cell_type": "markdown",
   "metadata": {},
   "source": [
    "## El paquete **tidyverse**\n",
    "### Datasets de ejemplo: *Iris de Fisher* y *mpg*"
   ]
  },
  {
   "cell_type": "code",
   "execution_count": null,
   "metadata": {},
   "outputs": [],
   "source": [
    "install.packages(\"tidyverse\")"
   ]
  },
  {
   "cell_type": "code",
   "execution_count": null,
   "metadata": {},
   "outputs": [],
   "source": [
    "library(tidyverse)"
   ]
  },
  {
   "cell_type": "markdown",
   "metadata": {},
   "source": [
    "\n",
    " \n",
    " La librería tidyverse carga a su vez las siguientes librerías o paquetes: \n",
    "   * **ggplot2**, para visualizar datos.\n",
    "   * **dplyr**, para manipular datos.\n",
    "   * **tidyr**, para ordenar datos.\n",
    "   * **readr**, para importar datos.\n",
    "   * **purrr**, para programar funciones.\n",
    "   * **tibble**, para `tibbles`, una versión moderna de los `data.frames`.\n",
    "   * **stringr**, para cadenas de caracteres (character strings).\n",
    "   * **forcats**, para factores.\n",
    "   \n",
    " En el siguiente ejemplo utilizamos **`ggplot()` (paquete `ggplot2`) para visualizar** los datos de _iris_.\n",
    " \n",
    " **Se comienza una gráfica con la función `ggplot()`**, que crea un sistema de coordenadas al que **se pueden agregar capas con el operador `+`**. `ggplot(data = mpg)` crea un gráfico vacío y se completa, en este ejemplo, con otra capa de puntos, la generada por la función `geom_point`:"
   ]
  },
  {
   "cell_type": "code",
   "execution_count": null,
   "metadata": {},
   "outputs": [],
   "source": [
    "ggplot(data = iris) +\n",
    "geom_point(mapping = aes(x=Petal.Width, y=Petal.Length))"
   ]
  },
  {
   "cell_type": "code",
   "execution_count": null,
   "metadata": {},
   "outputs": [],
   "source": [
    "ggplot(data = iris, aes(Species, Petal.Length)) +\n",
    "geom_boxplot()"
   ]
  },
  {
   "cell_type": "code",
   "execution_count": null,
   "metadata": {},
   "outputs": [],
   "source": [
    "# tenemos la opción de convertir el data.frame a tibble\n",
    "iris <- as_tibble(iris)"
   ]
  },
  {
   "cell_type": "markdown",
   "metadata": {},
   "source": [
    "De aquí en adelante utilizaremos el dataset *mpg* incluido en el paquete *ggplot2*:"
   ]
  },
  {
   "cell_type": "code",
   "execution_count": null,
   "metadata": {},
   "outputs": [],
   "source": [
    "data(package = \"ggplot2\")"
   ]
  },
  {
   "cell_type": "markdown",
   "metadata": {},
   "source": [
    "---\n",
    "### Pŕactica 1"
   ]
  },
  {
   "cell_type": "markdown",
   "metadata": {},
   "source": [
    "¿que classe de objeto es `mpg`? ¿cuántas columnas y filas tiene? ¿cuántas variables? ¿de qué tipo? ¿Cuál es la descripción de cada variable? (escribe las líneas de código en la siguiente celda)"
   ]
  },
  {
   "cell_type": "code",
   "execution_count": null,
   "metadata": {},
   "outputs": [],
   "source": [
    "# Visualiza la estructura de `mpg`\n",
    "\n",
    "# Accede a la página de ayuda del dataset\n"
   ]
  },
  {
   "cell_type": "markdown",
   "metadata": {},
   "source": [
    "Nos fijaremos en dos variables:\n",
    "* `displ`, tamaño del motor del coche en litros\n",
    "* `hwy`, la eficiencia de combustible en millas por galón (1 mpg =  4.5 litros). Un automóvil con una eficiencia de combustible baja consume más combustible que un automóvil con una eficiencia alta cuando recorren la misma distancia."
   ]
  },
  {
   "cell_type": "markdown",
   "metadata": {},
   "source": [
    "Utiliza `ggplot` para visualizar una variable frente a la otra en la siguiente celda."
   ]
  },
  {
   "cell_type": "code",
   "execution_count": null,
   "metadata": {},
   "outputs": [],
   "source": [
    "# ggplot(...) + geom_point(...)\n"
   ]
  },
  {
   "cell_type": "markdown",
   "metadata": {},
   "source": [
    "¿qué podemos decir de estas dos variables?\n",
    "¿La relación entre ambas es negativa o positiva? ¿que conclusión sacamos?\n",
    "\n",
    "---"
   ]
  },
  {
   "cell_type": "markdown",
   "metadata": {},
   "source": [
    "Para **asociar un parámetro estético a una variable** añadimos el nombre de ese parámetro (o argumento) en `aes()`."
   ]
  },
  {
   "cell_type": "code",
   "execution_count": null,
   "metadata": {},
   "outputs": [],
   "source": [
    "ggplot(data = mpg) + \n",
    "  geom_point(mapping = aes(x = displ, y = hwy, color = class)) "
   ]
  },
  {
   "cell_type": "markdown",
   "metadata": {},
   "source": [
    "Los colores revelan que muchos de los puntos inusuales (rojo) son coches de dos plazas. A primeras, nadie diría que un coche de este tipo es híbrido... ¡son coches deportivos! que tienen motores grandes como los SUV y las Pickup, pero son pequeños, lo que mejora su consumo de combustible."
   ]
  },
  {
   "cell_type": "markdown",
   "metadata": {},
   "source": [
    "---\n",
    "### Práctica 2\n",
    "\n",
    "1) ¿Que tipo de variable es `class`? Elige una variable continua y crea un gráfico de la misma en función de las variables `displ` y `hwy` \n",
    "¿Cómo se comportan los estéticos para variables continuas en comparación a las categóricas?\n"
   ]
  },
  {
   "cell_type": "code",
   "execution_count": null,
   "metadata": {},
   "outputs": [],
   "source": [
    "# ggplot ...\n",
    "\n"
   ]
  },
  {
   "cell_type": "markdown",
   "metadata": {},
   "source": [
    "2) Crea un gráfico de puntos (`displ` vs `hwy`) con `ggplot` donde los puntos se diferencien por color (`color`) para una variable categórica y por tamaño de punto (`size`) para una variable continua (e.g.`cty`)."
   ]
  },
  {
   "cell_type": "code",
   "execution_count": null,
   "metadata": {},
   "outputs": [],
   "source": [
    "#ggplot(..."
   ]
  },
  {
   "cell_type": "markdown",
   "metadata": {},
   "source": [
    "3) ¿Qué ocurre cuando intentamos diferenciar los puntos por forma (`shape`) en base a una variable continua (e.g. `cty`)?"
   ]
  },
  {
   "cell_type": "code",
   "execution_count": null,
   "metadata": {},
   "outputs": [],
   "source": [
    "# ggplot...\n",
    "\n"
   ]
  },
  {
   "cell_type": "markdown",
   "metadata": {},
   "source": [
    "---"
   ]
  },
  {
   "cell_type": "code",
   "execution_count": null,
   "metadata": {},
   "outputs": [],
   "source": [
    "ggplot(mpg, aes(x = displ, y = hwy, color = class, shape= cty > 20)) +\n",
    "geom_point()"
   ]
  },
  {
   "cell_type": "markdown",
   "metadata": {},
   "source": [
    "Otra estrategia útil para diferenciar grupos de puntos es utilizar `facet_wrap()` como una capa de ggplot más."
   ]
  },
  {
   "cell_type": "code",
   "execution_count": null,
   "metadata": {},
   "outputs": [],
   "source": [
    "ggplot(data = mpg) + \n",
    "  geom_point(mapping = aes(x = displ, y = hwy)) + \n",
    "  facet_wrap(~class, nrow = 2)"
   ]
  },
  {
   "cell_type": "markdown",
   "metadata": {},
   "source": [
    "## **Transformar datos**\n",
    "### (Dataset de ejemplo: *flights*)"
   ]
  },
  {
   "cell_type": "markdown",
   "metadata": {},
   "source": [
    "La visualización es una herramienta importante para la generación de información, pero es raro obtener los datos en la forma en la que se necesita. A menudo, habrá que crear nuevas variables o resúmenes, o tal vez solo cambiar el nombre de las variables o reordenar las observaciones.... para que sea más fácil trabajar con los datos.\n",
    "\n",
    "Continuando con el uso de los paquetes de `tidyverse`, **utilizaremos el paquete `dplyr`** para transformar el dataset `flights` (flights departing New York City in 2013) que encontraréis en el subdirectorio \"data\" como un archivo de R (.rda). Para cargar `flights` en nuestra sesión utilizamos la función `load`. "
   ]
  },
  {
   "cell_type": "code",
   "execution_count": null,
   "metadata": {},
   "outputs": [],
   "source": [
    "load(\"data/flights.rda\")"
   ]
  },
  {
   "cell_type": "code",
   "execution_count": null,
   "metadata": {},
   "outputs": [],
   "source": [
    "str(flights)"
   ]
  },
  {
   "cell_type": "markdown",
   "metadata": {},
   "source": [
    "Las **cinco funciones clave de `dplyr`** que te permiten resolver la gran mayoría de los problemas de manipulación de datos:\n",
    "\n",
    "  * **filter()**,  Extraer subconjuntos de datos en función de sus valores.\n",
    "  * **arrange()**, Reordenar filas.\n",
    "  * **select()**, Extraer variables por su nombre.\n",
    "  * **mutate()**, Crear nuevas variables con funciones de las variables existentes.\n",
    "  * **summarise()**, Collapse many values down to a single summary.\n"
   ]
  },
  {
   "cell_type": "markdown",
   "metadata": {},
   "source": [
    "### **Filtrar filas**"
   ]
  },
  {
   "cell_type": "markdown",
   "metadata": {},
   "source": [
    "Mediante el uso de los operadores comparativos: >, >=, <, <=, != (no igual), == (igual)"
   ]
  },
  {
   "cell_type": "code",
   "execution_count": null,
   "metadata": {},
   "outputs": [],
   "source": [
    "jan1 <- filter(flights, month == 1, day == 1)\n",
    "str(jan1)"
   ]
  },
  {
   "cell_type": "code",
   "execution_count": null,
   "metadata": {},
   "outputs": [],
   "source": [
    "day1 <- filter(flights, month != 2, day == 1)\n",
    "ggplot(day1, aes(x = month, y = dep_delay, group = month)) +\n",
    "geom_boxplot(width=0.6, na.rm = TRUE)"
   ]
  },
  {
   "cell_type": "code",
   "execution_count": null,
   "metadata": {},
   "outputs": [],
   "source": [
    "month2 <- filter(flights, month == 5 | month == 7, day == 1)\n",
    "ggplot(month2, aes(x = month, y = dep_delay, group = month)) +\n",
    "geom_boxplot(width=0.6, na.rm = TRUE)"
   ]
  },
  {
   "cell_type": "markdown",
   "metadata": {},
   "source": [
    "### **Ordenar filas**"
   ]
  },
  {
   "cell_type": "code",
   "execution_count": null,
   "metadata": {},
   "outputs": [],
   "source": [
    "bydate <- arrange(flights, year, month, day)\n",
    "bydelay <- arrange(flights, desc(dep_delay))\n",
    "ggplot(flights) +\n",
    "geom_point(aes(1:nrow(flights), dep_delay)) +\n",
    "geom_point(aes(1:nrow(flights), bydelay$dep_delay), color = \"red\")"
   ]
  },
  {
   "cell_type": "markdown",
   "metadata": {},
   "source": [
    "---\n",
    "### Practica 3\n",
    "1) Utiliza `filter()` y `is.na()` (en lugar de un operador comparativo) para saber cuantos vuelos no contienen datos de hora de salida.\n",
    " \n",
    "2) ¿Qué vuelos tuvieron trayectos más largos? ¿y los más cortos? utiliza `arrange()`.\n"
   ]
  },
  {
   "cell_type": "code",
   "execution_count": null,
   "metadata": {},
   "outputs": [],
   "source": [
    "# arrange(..."
   ]
  },
  {
   "cell_type": "markdown",
   "metadata": {},
   "source": [
    "---"
   ]
  },
  {
   "cell_type": "markdown",
   "metadata": {},
   "source": [
    "### **Seleccionar columnas**\n",
    "\n"
   ]
  },
  {
   "cell_type": "code",
   "execution_count": null,
   "metadata": {},
   "outputs": [],
   "source": [
    "# Seleccionar por el nombre de la columna\n",
    "print(select(flights, year, month, day))\n",
    "\n",
    "# Seleccionar todas las columnas entre \"year\" y \"day\"\n",
    "print(select(flights, year:day))\n",
    "\n",
    "# Seleccionar todas las columnas excepto las que están entre \"year\" y \"day\"\n",
    "print(select(flights, -(year:day)))\n",
    "\n"
   ]
  },
  {
   "cell_type": "markdown",
   "metadata": {},
   "source": [
    "\n",
    "Hya una serie de funciones \"helper\" que pueden utilizarse dentro de la función `select()`:\n",
    "\n",
    "   \n",
    "   * `starts_with(\"abc\")`\n",
    "\n",
    "   * `ends_with(\"xyz\")`\n",
    "\n",
    "   * `contains(\"ijk\")`\n",
    "\n",
    "   * `matches(\"(.)\\\\1\")`\n",
    "\n",
    "   * `num_range(\"x\", 1:3)`"
   ]
  },
  {
   "cell_type": "code",
   "execution_count": null,
   "metadata": {},
   "outputs": [],
   "source": [
    "flight_times <- select(flights, ends_with(\"time\"))\n",
    "str(flight_times)"
   ]
  },
  {
   "cell_type": "markdown",
   "metadata": {},
   "source": [
    "Otra función \"helper\" muy útil es `everything()`"
   ]
  },
  {
   "cell_type": "code",
   "execution_count": null,
   "metadata": {},
   "outputs": [],
   "source": [
    "df <- select(flights, time_hour, air_time, everything())\n",
    "str(df)"
   ]
  },
  {
   "cell_type": "markdown",
   "metadata": {},
   "source": [
    "### **Añadir nuevas variables**\n",
    "\n",
    "Además de seleccionar conjuntos de columnas existentes, a menudo es útil agregar nuevas columnas que son funciones de columnas existentes. Ese es el trabajo de `mutate()`.\n",
    "\n",
    "`mutate()` siempre agrega nuevas columnas al final de su conjunto de datos, por lo que utilizaremos un subconjunto de `fights` (usando `select()`) para que podamos ver las nuevas variables. "
   ]
  },
  {
   "cell_type": "code",
   "execution_count": null,
   "metadata": {},
   "outputs": [],
   "source": [
    "flights_sml <- select(flights, \n",
    "  year:day, \n",
    "  ends_with(\"delay\"), \n",
    "  distance, \n",
    "  air_time\n",
    ")\n",
    "\n",
    "mutate(flights_sml,\n",
    "  gain = dep_delay - arr_delay,\n",
    "  speed = distance / air_time * 60\n",
    ")"
   ]
  },
  {
   "cell_type": "markdown",
   "metadata": {},
   "source": [
    "¿Qué ocurre con los `NA` del final?"
   ]
  },
  {
   "cell_type": "markdown",
   "metadata": {},
   "source": [
    "---"
   ]
  },
  {
   "cell_type": "markdown",
   "metadata": {},
   "source": [
    "## IMPORTAR Y EXPORTAR (LEER Y ESCRIBIR) DATOS\n",
    "\n",
    "### (Dataset de ejemplo: *Iris de Fisher* y *flights*)\n",
    "\n",
    "Trabajar con los datos proporcionados por los paquetes de R es una excelente manera de aprender las herramientas de data science, pero en algún momento necesitaréis comenzar a trabajar con vuestros propios datos.\n",
    "\n",
    "Utilizaremos el **paquete `readr`**, que es también parte de `tidyverse`.\n",
    "\n",
    "\n",
    "### Leer datos\n",
    "La mayoría de las funciones de lectura convierten archivos planos en data frames:\n",
    "\n",
    "\n",
    "* `read_csv()` lee archivos delimitados por comas, `read_csv2()` lee archivos separados por punto y coma, `read_tsv()` lee archivos delimitados por tabulaciones, y `read_delim()` lee archivos con cualquier delimitador.\n",
    "\n",
    "* `read_fwf()` lee archivos de ancho fijo. Puede especificar campos por su ancho con `fwf_widths()` o su posición con `fwf_positions()`. `read_table()` lee una variación común de archivos de ancho fijo donde las columnas están separadas por espacios en blanco.\n",
    "\n",
    "* `read_log()` reads Apache style log files (ver https://www.screamingfrog.co.uk/an-seos-guide-to-apache-log-files/)\n",
    "\n",
    "\n"
   ]
  },
  {
   "cell_type": "code",
   "execution_count": null,
   "metadata": {},
   "outputs": [],
   "source": [
    "iris <- read_csv(\"data/Iris.csv\")\n",
    "str(iris)"
   ]
  },
  {
   "cell_type": "markdown",
   "metadata": {},
   "source": [
    "También podemos pasar a `read_csv` un csv que generemos \"al vuelo\" en R: "
   ]
  },
  {
   "cell_type": "code",
   "execution_count": null,
   "metadata": {},
   "outputs": [],
   "source": [
    "read_csv(\"a,b,c\n",
    "1,2,3\n",
    "4,5,6\")"
   ]
  },
  {
   "cell_type": "markdown",
   "metadata": {},
   "source": [
    "A veces hay algunas líneas de metadatos en la parte superior del archivo:\n",
    "* El argumento `skip = n` se usa para omitir las primeras n líneas. \n",
    "* El argumento `comment = \"#\"` se usa para eliminar todas las líneas que comienzan con (por ejemplo #)"
   ]
  },
  {
   "cell_type": "code",
   "execution_count": null,
   "metadata": {},
   "outputs": [],
   "source": [
    "read_csv(\"The first line of metadata\n",
    "  The second line of metadata\n",
    "  x,y,z\n",
    "  1,2,3\", skip = 2)"
   ]
  },
  {
   "cell_type": "code",
   "execution_count": null,
   "metadata": {},
   "outputs": [],
   "source": [
    "read_csv(\"# A comment I want to skip\n",
    "  x,y,z\n",
    "  1,2,3\", comment = \"#\")"
   ]
  },
  {
   "cell_type": "markdown",
   "metadata": {},
   "source": [
    "Es posible que los datos no tengan nombres de columna. Puedes usar `col_names = FALSE`. (`\\n` se puede usar para agregar una nueva línea)."
   ]
  },
  {
   "cell_type": "code",
   "execution_count": null,
   "metadata": {},
   "outputs": [],
   "source": [
    "read_csv(\"1,2,3\\n4,5,6\", col_names = FALSE)"
   ]
  },
  {
   "cell_type": "markdown",
   "metadata": {},
   "source": [
    "Puedes pasar a `col_names` un vector de caracteres que se usará como nombres de columna:"
   ]
  },
  {
   "cell_type": "code",
   "execution_count": null,
   "metadata": {},
   "outputs": [],
   "source": [
    "read_csv(\"1,2,3\\n4,5,6\", col_names = c(\"x\", \"y\", \"z\"))"
   ]
  },
  {
   "cell_type": "markdown",
   "metadata": {},
   "source": [
    "El argumento `na` se usa para especificar qué valor (o valores) del archivo son \"missing values\":"
   ]
  },
  {
   "cell_type": "code",
   "execution_count": null,
   "metadata": {},
   "outputs": [],
   "source": [
    "read_csv(\"a,b,c\\n1,2,.\", na = \".\")"
   ]
  },
  {
   "cell_type": "markdown",
   "metadata": {},
   "source": [
    "Las principales ventajas de `read_csv` frente a `read.csv` (de base de R) son:\n",
    "* Es más rápido.\n",
    "* Importa los datos a un objeto de clase `tibble`. De manera que...\n",
    "    - No convierte los \"character\" a \"factor\" for defecto\n",
    "    - No usa nombres de filas\n",
    "    - No transforma los nombres de columna"
   ]
  },
  {
   "cell_type": "markdown",
   "metadata": {},
   "source": [
    "---\n",
    "\n",
    "### Práctica 4\n",
    "\n",
    "¿Qúe función de importación utilizarías para un archivo separado por \"|\" (e.g. \"a|b|c\\n1|2|3\")? Escribe un ejemplo a continuación:"
   ]
  },
  {
   "cell_type": "code",
   "execution_count": null,
   "metadata": {},
   "outputs": [],
   "source": []
  },
  {
   "cell_type": "markdown",
   "metadata": {},
   "source": [
    "Identifica qué está mal en los siguientes archivos CSV y corrígelo:"
   ]
  },
  {
   "cell_type": "code",
   "execution_count": null,
   "metadata": {},
   "outputs": [],
   "source": [
    "read_csv(\"a,b\\n1,2,3\\n4,5,6\")\n",
    "read_csv(\"a;b\\n1;3\")\n"
   ]
  },
  {
   "cell_type": "markdown",
   "metadata": {},
   "source": [
    "---\n",
    "\n",
    "### Escribir datos\n",
    "\n",
    "`readr` incluye tres funciones útiles para escribir datos en disco: `write_csv()`, `write_delim()` `write_tsv()`\n",
    "\n",
    "---\n",
    "\n",
    "### Práctica 5\n",
    "\n",
    "Exporta el dataset `flights` al directorio que quieras (utiliza `?write_csv` como ayuda)."
   ]
  },
  {
   "cell_type": "code",
   "execution_count": null,
   "metadata": {},
   "outputs": [],
   "source": [
    "# write_..."
   ]
  },
  {
   "cell_type": "markdown",
   "metadata": {},
   "source": [
    "---"
   ]
  },
  {
   "cell_type": "markdown",
   "metadata": {},
   "source": [
    "## ORDENAR DATOS\n",
    "\n",
    "### (Datasets de ejemplo: *table1*, *table2*, *table3*, ... y *flights*)\n",
    "\n",
    "A veces nos tenemos que enfrentar a datasets desordenados y complejos. **El paquete `tidyr` ofrece herramientas que ayudan a ordenar datos.** \n",
    "Los datos que utilizaremos en esta sección se incluyen en el paquete `tidyr` (e.g. `table1`, `table2`, ...)"
   ]
  },
  {
   "cell_type": "code",
   "execution_count": null,
   "metadata": {},
   "outputs": [],
   "source": [
    "table1"
   ]
  },
  {
   "cell_type": "code",
   "execution_count": null,
   "metadata": {},
   "outputs": [],
   "source": [
    "table2"
   ]
  },
  {
   "cell_type": "code",
   "execution_count": null,
   "metadata": {},
   "outputs": [],
   "source": [
    "table3"
   ]
  },
  {
   "cell_type": "code",
   "execution_count": null,
   "metadata": {},
   "outputs": [],
   "source": [
    "table4a"
   ]
  },
  {
   "cell_type": "code",
   "execution_count": null,
   "metadata": {},
   "outputs": [],
   "source": [
    "table4b"
   ]
  },
  {
   "cell_type": "markdown",
   "metadata": {},
   "source": [
    "Todas estas tablas son representaciones del mismo conjunto de datos subyacente, pero no son igualmente fáciles de usar. Nuestro objetivo es obtener un conjunto de datos ordenado.\n",
    "\n",
    "\n",
    "Hay tres reglas que cumple un **CONJUNTO DE DATOS ORDENADO**:\n",
    "\n",
    "* **Cada variable** debe tener su **propia columna**.\n",
    "* **Cada observación** debe tener su **propia fila**.\n",
    "* **Cada valor** debe tener su **propia celda**.\n",
    "\n",
    "![](figs/tidy-1.png)"
   ]
  },
  {
   "cell_type": "markdown",
   "metadata": {},
   "source": [
    "En este ejemplo, únicamente `table1` está ordenada. Es la única representación donde cada columna es una variable."
   ]
  },
  {
   "cell_type": "code",
   "execution_count": null,
   "metadata": {},
   "outputs": [],
   "source": [
    "# Añadimos la variable rate (rate per 10,000)\n",
    "  mutate(table1, rate = cases / population * 10000)\n"
   ]
  },
  {
   "cell_type": "markdown",
   "metadata": {},
   "source": [
    "* La Función **`gather()`**:  Un problema común es un conjunto de datos donde algunos de los **nombres de columnas** no son nombres de variables, sino **valores de una variable**, como ocurre en `table4a` y `table4b`."
   ]
  },
  {
   "cell_type": "code",
   "execution_count": null,
   "metadata": {},
   "outputs": [],
   "source": [
    "table4a\n",
    "table4b\n",
    "tidy4a <- gather(table4a, `1999`, `2000`, key = \"year\", value = \"cases\")\n",
    "tidy4a"
   ]
  },
  {
   "cell_type": "code",
   "execution_count": null,
   "metadata": {},
   "outputs": [],
   "source": [
    "tidy4b <- gather(table4b, `1999`, `2000`, key = \"year\", value = \"population\")\n",
    "tidy4b"
   ]
  },
  {
   "cell_type": "markdown",
   "metadata": {},
   "source": [
    "Utilizamos la función `left_join()` de `dplyr` para combinar `table4a` y `table4b`:"
   ]
  },
  {
   "cell_type": "code",
   "execution_count": null,
   "metadata": {},
   "outputs": [],
   "source": [
    "left_join(tidy4a, tidy4b)"
   ]
  },
  {
   "cell_type": "markdown",
   "metadata": {},
   "source": [
    "* La Función **`spread()`**. A veces una **observación** está dispersa **en varias filas** (e.g. `table2`, una observación es un país en un año, pero cada observación se distribuye en dos filas)."
   ]
  },
  {
   "cell_type": "code",
   "execution_count": null,
   "metadata": {},
   "outputs": [],
   "source": [
    "table2\n",
    "tidy2 <- spread(table2, key = type, value = count)\n",
    "tidy2"
   ]
  },
  {
   "cell_type": "markdown",
   "metadata": {},
   "source": [
    "![](figs/tidy-8.png)"
   ]
  },
  {
   "cell_type": "markdown",
   "metadata": {},
   "source": [
    "* La función **`separate()`**. A veces podemos encontrarnos con **una columna** que contiene **dos variables** (e.g. `table3`, columna `rate` contiene las variables `cases` y `population`)."
   ]
  },
  {
   "cell_type": "code",
   "execution_count": null,
   "metadata": {},
   "outputs": [],
   "source": [
    "table3\n",
    "separate(table3, rate, into = c(\"cases\", \"population\"))"
   ]
  },
  {
   "cell_type": "code",
   "execution_count": null,
   "metadata": {},
   "outputs": [],
   "source": [
    "tidy3 <- separate(table3, rate, into = c(\"cases\", \"population\"), sep = \"/\")"
   ]
  },
  {
   "cell_type": "markdown",
   "metadata": {},
   "source": [
    "* La función **`unite()`**. Nos puede interesar **combinar** multiples **variables en una única** (e.g. para fechas)"
   ]
  },
  {
   "cell_type": "markdown",
   "metadata": {},
   "source": [
    "--- \n",
    "### Práctica 6\n",
    "\n",
    "Utiliza el dataset `flights` y la función `unite()` para crear la variable `fecha` que combina el año, el mes y el día."
   ]
  },
  {
   "cell_type": "code",
   "execution_count": null,
   "metadata": {},
   "outputs": [],
   "source": [
    "# unite()..\n"
   ]
  },
  {
   "cell_type": "markdown",
   "metadata": {},
   "source": [
    "---"
   ]
  },
  {
   "cell_type": "markdown",
   "metadata": {},
   "source": [
    "\n",
    "Hasta ahora, hemos ido ejecutando cada proceso con líneas de código independientes, asignando cada resultado provisional a una nueva variable. Por lo general, se suele construir un **\"pipe\"** gradualmente con `%>%`. \n",
    "\n",
    "Por ejemplo:\n",
    "\n",
    "\n"
   ]
  },
  {
   "cell_type": "code",
   "execution_count": null,
   "metadata": {},
   "outputs": [],
   "source": [
    "data(iris)\n",
    "hello <- iris %>%\n",
    "group_by(Species) %>%\n",
    "  summarise(meanSL = mean(Sepal.Length), meanSW = mean(Sepal.Width), \n",
    "          meanPL = mean(Petal.Length), meanPW = mean(Petal.Width))\n",
    "hello"
   ]
  },
  {
   "cell_type": "code",
   "execution_count": null,
   "metadata": {},
   "outputs": [],
   "source": [
    "titanic <- read_csv(\"data/titanic.csv\")\n",
    "str(titanic)"
   ]
  },
  {
   "cell_type": "code",
   "execution_count": null,
   "metadata": {},
   "outputs": [],
   "source": [
    "titanic %>%\n",
    "\n",
    "  select(-PassengerId, -Name, -Cabin, -Ticket) %>%\n",
    "\n",
    "  mutate(Sex = fct_recode(Sex,\n",
    "           \"0\" = \"male\",\n",
    "           \"1\" = \"female\"),\n",
    "         Embarked = fct_recode(Embarked,\n",
    "           \"1\" = \"S\",\n",
    "           \"2\" = \"C\",\n",
    "           \"3\" = \"Q\")  \n",
    "\n",
    "        ) %>%\n",
    " \n",
    "  mutate(Sex = as.integer(Sex),\n",
    "         Embarked = as.integer(Embarked),\n",
    "         Pclass = as.integer(Pclass),\n",
    "         Survived = as.integer(Survived)) %>%\n",
    "  filter(complete.cases(.)) %>%\n",
    "  cor() %>%\n",
    "  abs() %>%\n",
    "  levelplot(col.regions = c(gray.colors(5), rev(gray.colors(5))) , at = seq(-1, 1, 0.2))"
   ]
  },
  {
   "cell_type": "markdown",
   "metadata": {},
   "source": [
    "---\n",
    "\n",
    "## CASO DE ESTUDIO\n",
    "\n",
    "(Dataset de ejemplo: *Kaggle ML and Data Science Survey, 2017*)"
   ]
  },
  {
   "cell_type": "markdown",
   "metadata": {},
   "source": [
    "1.- Consulta el \"overview\" del dataset \"Kaggle ML and Data Science Survey, 2017\" de Kaggle (https://www.kaggle.com/kaggle/kaggle-survey-2017)\n",
    "\n",
    "2.- Descárgalo y léelo en R. ¿Un único csv o varios?\n",
    "\n",
    "3.- Echa un vistazo a los scripts de R markdown (notebooks con extensión \".rmd\") disponibles (pestaña kernels).\n",
    "\n",
    "4.- Puedes elegir el que más te interese. Este, https://www.kaggle.com/kumarhalake/kaggle-survey-2017-graphical-exploration, es apropiado para visualizar datos. Puedes encontrar otro donde muestren cómo transformar los datos, por ejemplo, https://www.kaggle.com/mrisdal/dealing-with-dirty-data-on-the-job, o cómo ordenarlos (tidy).\n",
    "\n",
    "5.- Reproduce alguno de los gráficos y pasos que se muestran en los notebooks de kaggle.\n",
    "\n"
   ]
  }
 ],
 "metadata": {
  "kernelspec": {
   "display_name": "R",
   "language": "R",
   "name": "ir"
  },
  "language_info": {
   "codemirror_mode": "r",
   "file_extension": ".r",
   "mimetype": "text/x-r-source",
   "name": "R",
   "pygments_lexer": "r",
   "version": "3.4.3"
  }
 },
 "nbformat": 4,
 "nbformat_minor": 2
}
