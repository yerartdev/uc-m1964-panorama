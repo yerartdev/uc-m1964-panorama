{
 "cells": [
  {
   "cell_type": "markdown",
   "metadata": {},
   "source": [
    "Crear una clase `Fraccion` que implemente la representación de un número como una fracción (i.e. numerador/denominador).\n",
    "\n",
    "Debe implementar los siguientes métodos:\n",
    "* Suma\n",
    "* Resta\n",
    "* Multiplicación\n",
    "* Inversa\n",
    "* Imprimir su representación\n",
    "* Extra: Posibilidad de convertir el objeto a flotante."
   ]
  },
  {
   "cell_type": "code",
   "execution_count": null,
   "metadata": {},
   "outputs": [],
   "source": []
  }
 ],
 "metadata": {
  "kernelspec": {
   "display_name": "Python 3",
   "language": "python",
   "name": "python3"
  },
  "language_info": {
   "codemirror_mode": {
    "name": "ipython",
    "version": 3
   },
   "file_extension": ".py",
   "mimetype": "text/x-python",
   "name": "python",
   "nbconvert_exporter": "python",
   "pygments_lexer": "ipython3",
   "version": "3.6.6"
  }
 },
 "nbformat": 4,
 "nbformat_minor": 2
}
