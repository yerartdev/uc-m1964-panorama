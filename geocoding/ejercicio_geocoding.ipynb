{
 "cells": [
  {
   "cell_type": "markdown",
   "metadata": {},
   "source": [
    "# Ejercicio de geocodificación de direcciones postales\n",
    "\n",
    "En el siguiente cuaderno se mostrará un ejemplo sencillo para geocodificar direcciones postales de establecimientos de Cantabria con Google Maps. Para ello, se utilizarán las siguientes bibliotecas de Python (cuya dependencia habrá que satisfacer previamente instalándolas):\n",
    "\n",
    "- `pandas`: [Python Data Anaylsis Library](https://pandas.pydata.org/).\n",
    "- `googlemaps`: [Python client library for Google Maps API Web Services](https://github.com/googlemaps/google-maps-services-python). \n",
    "\n",
    "Si es necesario instalar el paquete en el cuaderno, puede hacerse ejecutando el comando: `!pip install googlemaps`, por ejemplo."
   ]
  },
  {
   "cell_type": "markdown",
   "metadata": {},
   "source": [
    "## Importación del dataset\n",
    "\n",
    "En primer lugar, es necesario importar el dataset o conjunto de datos de prueba en una estructura de tipo `dataframe` de pandas. Para ello, se utilizará el método `read_csv`.\n",
    "\n",
    "La URL que contiene el dataset es la siguiente: [https://gist.githubusercontent.com/predicador37/b062c7b441831103b49d9065913dc52f/raw](https://gist.githubusercontent.com/predicador37/b062c7b441831103b49d9065913dc52f/raw)\n",
    "\n",
    "Hay que prestar atención a las siguientes peculiaridades:\n",
    "\n",
    "- No es deseable tratar el código postal como un número\n",
    "- Tampoco es deseable tratar los elementos vacíos como un nan\n",
    "\n",
    "Una vez leído, es conveniente explorar el dataset con head(), por ejemplo.\n"
   ]
  },
  {
   "cell_type": "code",
   "execution_count": null,
   "metadata": {},
   "outputs": [],
   "source": []
  },
  {
   "cell_type": "markdown",
   "metadata": {},
   "source": [
    "## Instanciación de un cliente Google Maps\n",
    "\n",
    "Usando la biblioteca `googlemaps`, es posible instanciar un cliente con una clave de API (API key) de geocodificación dada. Para ello, previamente será necesario que el alumno genere una clave de este tipo en Google Maps. El proceso de obtención de clave está bastante automatizado y documentado en [este enlace](https://developers.google.com/maps/documentation/javascript/get-api-key?hl=ES).\n",
    "\n",
    "Una vez se disponga de una clave, se instanciará el cliente.\n",
    "\n"
   ]
  },
  {
   "cell_type": "markdown",
   "metadata": {},
   "source": [
    "## Geocodificación de las direcciones postales\n",
    "\n",
    "### Ejemplo y exploración\n",
    "\n",
    "A continuación se geocodificará la primera dirección incluida en el dataframe con objeto de inspeccionar la salida ofrecida por Google Maps y la biblioteca utilizada.\n",
    "\n",
    "Para obtener mejores resultados, es conveniente pasar a Google Maps la dirección como una cadena de texto y dejar que sean sus propios parsers quienes la analicen. Por ello, será necesario generar una cadena con la dirección completa a partir de las columnas del dataframe de la siguiente manera:\n",
    "\n",
    "        TIPO_VÍA NOMBRE_VÍA PORTAL, CÓDIGO_POSTAL LOCALIDAD \n",
    "        \n",
    "**Importante**: es necesario respetar los espacios y las comas tal y como se disponen en la estructura anterior.\n",
    "\n",
    "Muestre en el cuaderno el resultado de la concatenación."
   ]
  },
  {
   "cell_type": "code",
   "execution_count": null,
   "metadata": {},
   "outputs": [],
   "source": []
  },
  {
   "cell_type": "markdown",
   "metadata": {},
   "source": [
    "A continuación, es posible llamar al método `geocode` del cliente instanciado previamente y pasarle como parámetro la dirección confeccionada.\n",
    "\n",
    "Explore el resultado devuelto por la biblioteca y su tipo de datos."
   ]
  },
  {
   "cell_type": "code",
   "execution_count": null,
   "metadata": {},
   "outputs": [],
   "source": []
  },
  {
   "cell_type": "markdown",
   "metadata": {},
   "source": [
    "Como se puede observar, Google puede devolver más de un resultado de geocodificación. En este caso, sólo interesará el primero. Para generar la salida final del ejercicio, se utilizará una lista de listas (cada una a modo de fila del dataframe resultado). Cada elemento lista asociado a una dirección postal contendrá los siguientes campos devueltos en la estructura de datos anterior:\n",
    "\n",
    "        formatted_address, latitude, longitude\n",
    "        \n",
    "Extraiga dichos elementos de la estructura y añádalos a una lista. **Tenga en cuenta que Google puede devolver una estructura vacía...** En este caso, incluya la dirección formateada previamente y la latitud y longitud en blanco (vacías).\n",
    "\n",
    "Muestre el resultado geocodificado con la estructura indicada como ejemplo."
   ]
  },
  {
   "cell_type": "code",
   "execution_count": null,
   "metadata": {},
   "outputs": [],
   "source": []
  },
  {
   "cell_type": "markdown",
   "metadata": {},
   "source": [
    "### Geocodificación de todo el conjunto de datos\n",
    "\n",
    "Una vez realizada una prueba con una dirección, aplique este proceso a todo el conjunto de direcciones del dataframe. Para ello, itere sobre cada fila y añada cada resultado en una variable de tipo lista llamada `results`.\n",
    "\n",
    "Una vez finalizadas las iteraciones y completada la lista, genere un dataframe a partir de dicha lista usando como columnas las siguientes etiquetas:\n",
    "\n",
    "        'address', 'latitude', 'longitude'\n",
    "        \n",
    "Explore el dataframe resultante con `head()`"
   ]
  },
  {
   "cell_type": "code",
   "execution_count": null,
   "metadata": {},
   "outputs": [],
   "source": []
  },
  {
   "cell_type": "markdown",
   "metadata": {},
   "source": [
    "## Volcado del resultado\n",
    "\n",
    "Finalmente, vuelque el contenido del dataframe a un archivo CSV (por ejemplo, `results.csv`) de manera que el índice aparezca como una columna etiquetada como 'id'."
   ]
  },
  {
   "cell_type": "code",
   "execution_count": null,
   "metadata": {},
   "outputs": [],
   "source": []
  }
 ],
 "metadata": {
  "kernelspec": {
   "display_name": "Python 3",
   "language": "python",
   "name": "python3"
  },
  "language_info": {
   "codemirror_mode": {
    "name": "ipython",
    "version": 3
   },
   "file_extension": ".py",
   "mimetype": "text/x-python",
   "name": "python",
   "nbconvert_exporter": "python",
   "pygments_lexer": "ipython3",
   "version": "3.6.3"
  }
 },
 "nbformat": 4,
 "nbformat_minor": 2
}
